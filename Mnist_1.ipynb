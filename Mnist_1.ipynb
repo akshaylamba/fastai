{
 "cells": [
  {
   "cell_type": "code",
   "execution_count": 1,
   "metadata": {
    "collapsed": false
   },
   "outputs": [
    {
     "name": "stderr",
     "output_type": "stream",
     "text": [
      "Using Theano backend.\n"
     ]
    }
   ],
   "source": [
    "%matplotlib inline\n",
    "import utils; #reload(utils)\n",
    "from utils import *\n",
    "from __future__ import division, print_function\n",
    "import pandas as pd\n",
    "import numpy as np\n",
    "from sklearn.model_selection import train_test_split\n",
    "import keras.utils.np_utils as kutils"
   ]
  },
  {
   "cell_type": "code",
   "execution_count": 2,
   "metadata": {
    "collapsed": true
   },
   "outputs": [],
   "source": [
    "train=pd.read_csv('digit/data/train.csv')\n",
    "test=pd.read_csv('digit/data/test.csv')\n"
   ]
  },
  {
   "cell_type": "code",
   "execution_count": 3,
   "metadata": {
    "collapsed": false
   },
   "outputs": [
    {
     "data": {
      "text/html": [
       "<div>\n",
       "<style>\n",
       "    .dataframe thead tr:only-child th {\n",
       "        text-align: right;\n",
       "    }\n",
       "\n",
       "    .dataframe thead th {\n",
       "        text-align: left;\n",
       "    }\n",
       "\n",
       "    .dataframe tbody tr th {\n",
       "        vertical-align: top;\n",
       "    }\n",
       "</style>\n",
       "<table border=\"1\" class=\"dataframe\">\n",
       "  <thead>\n",
       "    <tr style=\"text-align: right;\">\n",
       "      <th></th>\n",
       "      <th>pixel0</th>\n",
       "      <th>pixel1</th>\n",
       "      <th>pixel2</th>\n",
       "      <th>pixel3</th>\n",
       "      <th>pixel4</th>\n",
       "      <th>pixel5</th>\n",
       "      <th>pixel6</th>\n",
       "      <th>pixel7</th>\n",
       "      <th>pixel8</th>\n",
       "      <th>pixel9</th>\n",
       "      <th>...</th>\n",
       "      <th>pixel774</th>\n",
       "      <th>pixel775</th>\n",
       "      <th>pixel776</th>\n",
       "      <th>pixel777</th>\n",
       "      <th>pixel778</th>\n",
       "      <th>pixel779</th>\n",
       "      <th>pixel780</th>\n",
       "      <th>pixel781</th>\n",
       "      <th>pixel782</th>\n",
       "      <th>pixel783</th>\n",
       "    </tr>\n",
       "  </thead>\n",
       "  <tbody>\n",
       "    <tr>\n",
       "      <th>0</th>\n",
       "      <td>0</td>\n",
       "      <td>0</td>\n",
       "      <td>0</td>\n",
       "      <td>0</td>\n",
       "      <td>0</td>\n",
       "      <td>0</td>\n",
       "      <td>0</td>\n",
       "      <td>0</td>\n",
       "      <td>0</td>\n",
       "      <td>0</td>\n",
       "      <td>...</td>\n",
       "      <td>0</td>\n",
       "      <td>0</td>\n",
       "      <td>0</td>\n",
       "      <td>0</td>\n",
       "      <td>0</td>\n",
       "      <td>0</td>\n",
       "      <td>0</td>\n",
       "      <td>0</td>\n",
       "      <td>0</td>\n",
       "      <td>0</td>\n",
       "    </tr>\n",
       "    <tr>\n",
       "      <th>1</th>\n",
       "      <td>0</td>\n",
       "      <td>0</td>\n",
       "      <td>0</td>\n",
       "      <td>0</td>\n",
       "      <td>0</td>\n",
       "      <td>0</td>\n",
       "      <td>0</td>\n",
       "      <td>0</td>\n",
       "      <td>0</td>\n",
       "      <td>0</td>\n",
       "      <td>...</td>\n",
       "      <td>0</td>\n",
       "      <td>0</td>\n",
       "      <td>0</td>\n",
       "      <td>0</td>\n",
       "      <td>0</td>\n",
       "      <td>0</td>\n",
       "      <td>0</td>\n",
       "      <td>0</td>\n",
       "      <td>0</td>\n",
       "      <td>0</td>\n",
       "    </tr>\n",
       "    <tr>\n",
       "      <th>2</th>\n",
       "      <td>0</td>\n",
       "      <td>0</td>\n",
       "      <td>0</td>\n",
       "      <td>0</td>\n",
       "      <td>0</td>\n",
       "      <td>0</td>\n",
       "      <td>0</td>\n",
       "      <td>0</td>\n",
       "      <td>0</td>\n",
       "      <td>0</td>\n",
       "      <td>...</td>\n",
       "      <td>0</td>\n",
       "      <td>0</td>\n",
       "      <td>0</td>\n",
       "      <td>0</td>\n",
       "      <td>0</td>\n",
       "      <td>0</td>\n",
       "      <td>0</td>\n",
       "      <td>0</td>\n",
       "      <td>0</td>\n",
       "      <td>0</td>\n",
       "    </tr>\n",
       "    <tr>\n",
       "      <th>3</th>\n",
       "      <td>0</td>\n",
       "      <td>0</td>\n",
       "      <td>0</td>\n",
       "      <td>0</td>\n",
       "      <td>0</td>\n",
       "      <td>0</td>\n",
       "      <td>0</td>\n",
       "      <td>0</td>\n",
       "      <td>0</td>\n",
       "      <td>0</td>\n",
       "      <td>...</td>\n",
       "      <td>0</td>\n",
       "      <td>0</td>\n",
       "      <td>0</td>\n",
       "      <td>0</td>\n",
       "      <td>0</td>\n",
       "      <td>0</td>\n",
       "      <td>0</td>\n",
       "      <td>0</td>\n",
       "      <td>0</td>\n",
       "      <td>0</td>\n",
       "    </tr>\n",
       "    <tr>\n",
       "      <th>4</th>\n",
       "      <td>0</td>\n",
       "      <td>0</td>\n",
       "      <td>0</td>\n",
       "      <td>0</td>\n",
       "      <td>0</td>\n",
       "      <td>0</td>\n",
       "      <td>0</td>\n",
       "      <td>0</td>\n",
       "      <td>0</td>\n",
       "      <td>0</td>\n",
       "      <td>...</td>\n",
       "      <td>0</td>\n",
       "      <td>0</td>\n",
       "      <td>0</td>\n",
       "      <td>0</td>\n",
       "      <td>0</td>\n",
       "      <td>0</td>\n",
       "      <td>0</td>\n",
       "      <td>0</td>\n",
       "      <td>0</td>\n",
       "      <td>0</td>\n",
       "    </tr>\n",
       "  </tbody>\n",
       "</table>\n",
       "<p>5 rows × 784 columns</p>\n",
       "</div>"
      ],
      "text/plain": [
       "   pixel0  pixel1  pixel2  pixel3  pixel4  pixel5  pixel6  pixel7  pixel8  \\\n",
       "0       0       0       0       0       0       0       0       0       0   \n",
       "1       0       0       0       0       0       0       0       0       0   \n",
       "2       0       0       0       0       0       0       0       0       0   \n",
       "3       0       0       0       0       0       0       0       0       0   \n",
       "4       0       0       0       0       0       0       0       0       0   \n",
       "\n",
       "   pixel9    ...     pixel774  pixel775  pixel776  pixel777  pixel778  \\\n",
       "0       0    ...            0         0         0         0         0   \n",
       "1       0    ...            0         0         0         0         0   \n",
       "2       0    ...            0         0         0         0         0   \n",
       "3       0    ...            0         0         0         0         0   \n",
       "4       0    ...            0         0         0         0         0   \n",
       "\n",
       "   pixel779  pixel780  pixel781  pixel782  pixel783  \n",
       "0         0         0         0         0         0  \n",
       "1         0         0         0         0         0  \n",
       "2         0         0         0         0         0  \n",
       "3         0         0         0         0         0  \n",
       "4         0         0         0         0         0  \n",
       "\n",
       "[5 rows x 784 columns]"
      ]
     },
     "execution_count": 3,
     "metadata": {},
     "output_type": "execute_result"
    }
   ],
   "source": [
    "test.head()"
   ]
  },
  {
   "cell_type": "code",
   "execution_count": 4,
   "metadata": {
    "collapsed": false
   },
   "outputs": [
    {
     "data": {
      "text/plain": [
       "(28000, 784)"
      ]
     },
     "execution_count": 4,
     "metadata": {},
     "output_type": "execute_result"
    }
   ],
   "source": [
    "test.shape"
   ]
  },
  {
   "cell_type": "code",
   "execution_count": 5,
   "metadata": {
    "collapsed": false
   },
   "outputs": [],
   "source": [
    "X_train,X_test,Y_train,Y_test=train_test_split(train,train['label'],test_size=0.20)\n"
   ]
  },
  {
   "cell_type": "code",
   "execution_count": 6,
   "metadata": {
    "collapsed": false
   },
   "outputs": [
    {
     "data": {
      "text/html": [
       "<div>\n",
       "<style>\n",
       "    .dataframe thead tr:only-child th {\n",
       "        text-align: right;\n",
       "    }\n",
       "\n",
       "    .dataframe thead th {\n",
       "        text-align: left;\n",
       "    }\n",
       "\n",
       "    .dataframe tbody tr th {\n",
       "        vertical-align: top;\n",
       "    }\n",
       "</style>\n",
       "<table border=\"1\" class=\"dataframe\">\n",
       "  <thead>\n",
       "    <tr style=\"text-align: right;\">\n",
       "      <th></th>\n",
       "      <th>pixel0</th>\n",
       "      <th>pixel1</th>\n",
       "      <th>pixel2</th>\n",
       "      <th>pixel3</th>\n",
       "      <th>pixel4</th>\n",
       "      <th>pixel5</th>\n",
       "      <th>pixel6</th>\n",
       "      <th>pixel7</th>\n",
       "      <th>pixel8</th>\n",
       "      <th>pixel9</th>\n",
       "      <th>...</th>\n",
       "      <th>pixel774</th>\n",
       "      <th>pixel775</th>\n",
       "      <th>pixel776</th>\n",
       "      <th>pixel777</th>\n",
       "      <th>pixel778</th>\n",
       "      <th>pixel779</th>\n",
       "      <th>pixel780</th>\n",
       "      <th>pixel781</th>\n",
       "      <th>pixel782</th>\n",
       "      <th>pixel783</th>\n",
       "    </tr>\n",
       "  </thead>\n",
       "  <tbody>\n",
       "    <tr>\n",
       "      <th>10839</th>\n",
       "      <td>0</td>\n",
       "      <td>0</td>\n",
       "      <td>0</td>\n",
       "      <td>0</td>\n",
       "      <td>0</td>\n",
       "      <td>0</td>\n",
       "      <td>0</td>\n",
       "      <td>0</td>\n",
       "      <td>0</td>\n",
       "      <td>0</td>\n",
       "      <td>...</td>\n",
       "      <td>0</td>\n",
       "      <td>0</td>\n",
       "      <td>0</td>\n",
       "      <td>0</td>\n",
       "      <td>0</td>\n",
       "      <td>0</td>\n",
       "      <td>0</td>\n",
       "      <td>0</td>\n",
       "      <td>0</td>\n",
       "      <td>0</td>\n",
       "    </tr>\n",
       "    <tr>\n",
       "      <th>17820</th>\n",
       "      <td>0</td>\n",
       "      <td>0</td>\n",
       "      <td>0</td>\n",
       "      <td>0</td>\n",
       "      <td>0</td>\n",
       "      <td>0</td>\n",
       "      <td>0</td>\n",
       "      <td>0</td>\n",
       "      <td>0</td>\n",
       "      <td>0</td>\n",
       "      <td>...</td>\n",
       "      <td>0</td>\n",
       "      <td>0</td>\n",
       "      <td>0</td>\n",
       "      <td>0</td>\n",
       "      <td>0</td>\n",
       "      <td>0</td>\n",
       "      <td>0</td>\n",
       "      <td>0</td>\n",
       "      <td>0</td>\n",
       "      <td>0</td>\n",
       "    </tr>\n",
       "    <tr>\n",
       "      <th>11640</th>\n",
       "      <td>0</td>\n",
       "      <td>0</td>\n",
       "      <td>0</td>\n",
       "      <td>0</td>\n",
       "      <td>0</td>\n",
       "      <td>0</td>\n",
       "      <td>0</td>\n",
       "      <td>0</td>\n",
       "      <td>0</td>\n",
       "      <td>0</td>\n",
       "      <td>...</td>\n",
       "      <td>0</td>\n",
       "      <td>0</td>\n",
       "      <td>0</td>\n",
       "      <td>0</td>\n",
       "      <td>0</td>\n",
       "      <td>0</td>\n",
       "      <td>0</td>\n",
       "      <td>0</td>\n",
       "      <td>0</td>\n",
       "      <td>0</td>\n",
       "    </tr>\n",
       "    <tr>\n",
       "      <th>12847</th>\n",
       "      <td>0</td>\n",
       "      <td>0</td>\n",
       "      <td>0</td>\n",
       "      <td>0</td>\n",
       "      <td>0</td>\n",
       "      <td>0</td>\n",
       "      <td>0</td>\n",
       "      <td>0</td>\n",
       "      <td>0</td>\n",
       "      <td>0</td>\n",
       "      <td>...</td>\n",
       "      <td>0</td>\n",
       "      <td>0</td>\n",
       "      <td>0</td>\n",
       "      <td>0</td>\n",
       "      <td>0</td>\n",
       "      <td>0</td>\n",
       "      <td>0</td>\n",
       "      <td>0</td>\n",
       "      <td>0</td>\n",
       "      <td>0</td>\n",
       "    </tr>\n",
       "    <tr>\n",
       "      <th>29968</th>\n",
       "      <td>0</td>\n",
       "      <td>0</td>\n",
       "      <td>0</td>\n",
       "      <td>0</td>\n",
       "      <td>0</td>\n",
       "      <td>0</td>\n",
       "      <td>0</td>\n",
       "      <td>0</td>\n",
       "      <td>0</td>\n",
       "      <td>0</td>\n",
       "      <td>...</td>\n",
       "      <td>0</td>\n",
       "      <td>0</td>\n",
       "      <td>0</td>\n",
       "      <td>0</td>\n",
       "      <td>0</td>\n",
       "      <td>0</td>\n",
       "      <td>0</td>\n",
       "      <td>0</td>\n",
       "      <td>0</td>\n",
       "      <td>0</td>\n",
       "    </tr>\n",
       "  </tbody>\n",
       "</table>\n",
       "<p>5 rows × 784 columns</p>\n",
       "</div>"
      ],
      "text/plain": [
       "       pixel0  pixel1  pixel2  pixel3  pixel4  pixel5  pixel6  pixel7  pixel8  \\\n",
       "10839       0       0       0       0       0       0       0       0       0   \n",
       "17820       0       0       0       0       0       0       0       0       0   \n",
       "11640       0       0       0       0       0       0       0       0       0   \n",
       "12847       0       0       0       0       0       0       0       0       0   \n",
       "29968       0       0       0       0       0       0       0       0       0   \n",
       "\n",
       "       pixel9    ...     pixel774  pixel775  pixel776  pixel777  pixel778  \\\n",
       "10839       0    ...            0         0         0         0         0   \n",
       "17820       0    ...            0         0         0         0         0   \n",
       "11640       0    ...            0         0         0         0         0   \n",
       "12847       0    ...            0         0         0         0         0   \n",
       "29968       0    ...            0         0         0         0         0   \n",
       "\n",
       "       pixel779  pixel780  pixel781  pixel782  pixel783  \n",
       "10839         0         0         0         0         0  \n",
       "17820         0         0         0         0         0  \n",
       "11640         0         0         0         0         0  \n",
       "12847         0         0         0         0         0  \n",
       "29968         0         0         0         0         0  \n",
       "\n",
       "[5 rows x 784 columns]"
      ]
     },
     "execution_count": 6,
     "metadata": {},
     "output_type": "execute_result"
    }
   ],
   "source": [
    "train_label=X_train['label']\n",
    "del X_train['label']\n",
    "X_train.head()"
   ]
  },
  {
   "cell_type": "code",
   "execution_count": 7,
   "metadata": {
    "collapsed": false
   },
   "outputs": [
    {
     "data": {
      "text/html": [
       "<div>\n",
       "<style>\n",
       "    .dataframe thead tr:only-child th {\n",
       "        text-align: right;\n",
       "    }\n",
       "\n",
       "    .dataframe thead th {\n",
       "        text-align: left;\n",
       "    }\n",
       "\n",
       "    .dataframe tbody tr th {\n",
       "        vertical-align: top;\n",
       "    }\n",
       "</style>\n",
       "<table border=\"1\" class=\"dataframe\">\n",
       "  <thead>\n",
       "    <tr style=\"text-align: right;\">\n",
       "      <th></th>\n",
       "      <th>pixel0</th>\n",
       "      <th>pixel1</th>\n",
       "      <th>pixel2</th>\n",
       "      <th>pixel3</th>\n",
       "      <th>pixel4</th>\n",
       "      <th>pixel5</th>\n",
       "      <th>pixel6</th>\n",
       "      <th>pixel7</th>\n",
       "      <th>pixel8</th>\n",
       "      <th>pixel9</th>\n",
       "      <th>...</th>\n",
       "      <th>pixel774</th>\n",
       "      <th>pixel775</th>\n",
       "      <th>pixel776</th>\n",
       "      <th>pixel777</th>\n",
       "      <th>pixel778</th>\n",
       "      <th>pixel779</th>\n",
       "      <th>pixel780</th>\n",
       "      <th>pixel781</th>\n",
       "      <th>pixel782</th>\n",
       "      <th>pixel783</th>\n",
       "    </tr>\n",
       "  </thead>\n",
       "  <tbody>\n",
       "    <tr>\n",
       "      <th>28813</th>\n",
       "      <td>0</td>\n",
       "      <td>0</td>\n",
       "      <td>0</td>\n",
       "      <td>0</td>\n",
       "      <td>0</td>\n",
       "      <td>0</td>\n",
       "      <td>0</td>\n",
       "      <td>0</td>\n",
       "      <td>0</td>\n",
       "      <td>0</td>\n",
       "      <td>...</td>\n",
       "      <td>0</td>\n",
       "      <td>0</td>\n",
       "      <td>0</td>\n",
       "      <td>0</td>\n",
       "      <td>0</td>\n",
       "      <td>0</td>\n",
       "      <td>0</td>\n",
       "      <td>0</td>\n",
       "      <td>0</td>\n",
       "      <td>0</td>\n",
       "    </tr>\n",
       "    <tr>\n",
       "      <th>18658</th>\n",
       "      <td>0</td>\n",
       "      <td>0</td>\n",
       "      <td>0</td>\n",
       "      <td>0</td>\n",
       "      <td>0</td>\n",
       "      <td>0</td>\n",
       "      <td>0</td>\n",
       "      <td>0</td>\n",
       "      <td>0</td>\n",
       "      <td>0</td>\n",
       "      <td>...</td>\n",
       "      <td>0</td>\n",
       "      <td>0</td>\n",
       "      <td>0</td>\n",
       "      <td>0</td>\n",
       "      <td>0</td>\n",
       "      <td>0</td>\n",
       "      <td>0</td>\n",
       "      <td>0</td>\n",
       "      <td>0</td>\n",
       "      <td>0</td>\n",
       "    </tr>\n",
       "    <tr>\n",
       "      <th>37562</th>\n",
       "      <td>0</td>\n",
       "      <td>0</td>\n",
       "      <td>0</td>\n",
       "      <td>0</td>\n",
       "      <td>0</td>\n",
       "      <td>0</td>\n",
       "      <td>0</td>\n",
       "      <td>0</td>\n",
       "      <td>0</td>\n",
       "      <td>0</td>\n",
       "      <td>...</td>\n",
       "      <td>0</td>\n",
       "      <td>0</td>\n",
       "      <td>0</td>\n",
       "      <td>0</td>\n",
       "      <td>0</td>\n",
       "      <td>0</td>\n",
       "      <td>0</td>\n",
       "      <td>0</td>\n",
       "      <td>0</td>\n",
       "      <td>0</td>\n",
       "    </tr>\n",
       "    <tr>\n",
       "      <th>35086</th>\n",
       "      <td>0</td>\n",
       "      <td>0</td>\n",
       "      <td>0</td>\n",
       "      <td>0</td>\n",
       "      <td>0</td>\n",
       "      <td>0</td>\n",
       "      <td>0</td>\n",
       "      <td>0</td>\n",
       "      <td>0</td>\n",
       "      <td>0</td>\n",
       "      <td>...</td>\n",
       "      <td>0</td>\n",
       "      <td>0</td>\n",
       "      <td>0</td>\n",
       "      <td>0</td>\n",
       "      <td>0</td>\n",
       "      <td>0</td>\n",
       "      <td>0</td>\n",
       "      <td>0</td>\n",
       "      <td>0</td>\n",
       "      <td>0</td>\n",
       "    </tr>\n",
       "    <tr>\n",
       "      <th>38734</th>\n",
       "      <td>0</td>\n",
       "      <td>0</td>\n",
       "      <td>0</td>\n",
       "      <td>0</td>\n",
       "      <td>0</td>\n",
       "      <td>0</td>\n",
       "      <td>0</td>\n",
       "      <td>0</td>\n",
       "      <td>0</td>\n",
       "      <td>0</td>\n",
       "      <td>...</td>\n",
       "      <td>0</td>\n",
       "      <td>0</td>\n",
       "      <td>0</td>\n",
       "      <td>0</td>\n",
       "      <td>0</td>\n",
       "      <td>0</td>\n",
       "      <td>0</td>\n",
       "      <td>0</td>\n",
       "      <td>0</td>\n",
       "      <td>0</td>\n",
       "    </tr>\n",
       "  </tbody>\n",
       "</table>\n",
       "<p>5 rows × 784 columns</p>\n",
       "</div>"
      ],
      "text/plain": [
       "       pixel0  pixel1  pixel2  pixel3  pixel4  pixel5  pixel6  pixel7  pixel8  \\\n",
       "28813       0       0       0       0       0       0       0       0       0   \n",
       "18658       0       0       0       0       0       0       0       0       0   \n",
       "37562       0       0       0       0       0       0       0       0       0   \n",
       "35086       0       0       0       0       0       0       0       0       0   \n",
       "38734       0       0       0       0       0       0       0       0       0   \n",
       "\n",
       "       pixel9    ...     pixel774  pixel775  pixel776  pixel777  pixel778  \\\n",
       "28813       0    ...            0         0         0         0         0   \n",
       "18658       0    ...            0         0         0         0         0   \n",
       "37562       0    ...            0         0         0         0         0   \n",
       "35086       0    ...            0         0         0         0         0   \n",
       "38734       0    ...            0         0         0         0         0   \n",
       "\n",
       "       pixel779  pixel780  pixel781  pixel782  pixel783  \n",
       "28813         0         0         0         0         0  \n",
       "18658         0         0         0         0         0  \n",
       "37562         0         0         0         0         0  \n",
       "35086         0         0         0         0         0  \n",
       "38734         0         0         0         0         0  \n",
       "\n",
       "[5 rows x 784 columns]"
      ]
     },
     "execution_count": 7,
     "metadata": {},
     "output_type": "execute_result"
    }
   ],
   "source": [
    "val_label=X_test['label']\n",
    "del X_test['label']\n",
    "\n",
    "\n",
    "\n",
    "X_test.head()"
   ]
  },
  {
   "cell_type": "code",
   "execution_count": 8,
   "metadata": {
    "collapsed": false
   },
   "outputs": [
    {
     "data": {
      "text/plain": [
       "(28000, 784)"
      ]
     },
     "execution_count": 8,
     "metadata": {},
     "output_type": "execute_result"
    }
   ],
   "source": [
    "X=np.array(X_train)\n",
    "Va=np.array(X_test)\n",
    "te=np.array(test)\n",
    "test.shape"
   ]
  },
  {
   "cell_type": "code",
   "execution_count": 97,
   "metadata": {
    "collapsed": false
   },
   "outputs": [],
   "source": [
    "\n",
    "\n",
    "\n",
    "trainX = X.reshape(X.shape[0], 28, 28,1)\n",
    "trainX = trainX.astype(float)\n",
    "trainX /= 255.0\n",
    "\n",
    "train_label\n",
    "\n",
    "\n",
    "valX = Va.reshape(Va.shape[0], 28, 28,1)\n",
    "valX = valX.astype(float)\n",
    "valX /= 255.0\n",
    "\n",
    "val_label\n",
    "\n",
    "testX = te.reshape(te.shape[0], 28, 28,1)\n",
    "testX = testX.astype(float)\n",
    "testX /= 255.0\n",
    "\n"
   ]
  },
  {
   "cell_type": "code",
   "execution_count": 59,
   "metadata": {
    "collapsed": false
   },
   "outputs": [
    {
     "name": "stdout",
     "output_type": "stream",
     "text": [
      "(33600, 28, 28, 1)\n",
      "(8400, 28, 28, 1)\n",
      "(28000, 28, 28, 1)\n"
     ]
    }
   ],
   "source": [
    "print (trainX.shape)\n",
    "print (valX.shape)\n",
    "print (testX.shape)"
   ]
  },
  {
   "cell_type": "code",
   "execution_count": 53,
   "metadata": {
    "collapsed": false
   },
   "outputs": [
    {
     "name": "stdout",
     "output_type": "stream",
     "text": [
      "(33600, 10)\n",
      "(8400, 10)\n"
     ]
    }
   ],
   "source": [
    "y_train=np.array(Y_train)\n",
    "y_test=np.array(Y_test)\n",
    "\n",
    "y_train = onehot(y_train)\n",
    "y_val = onehot(y_test)\n",
    "\n",
    "\n",
    "print (y_train.shape)\n",
    "print (y_val.shape)"
   ]
  },
  {
   "cell_type": "code",
   "execution_count": 10,
   "metadata": {
    "collapsed": true
   },
   "outputs": [],
   "source": [
    "mean_px = trainX.mean().astype(np.float32)\n",
    "std_px = trainX.std().astype(np.float32)\n",
    "def norm_input(x): return (x-mean_px)/std_px\n",
    "\n",
    "def get_lin_model():\n",
    "    model = Sequential([\n",
    "        Lambda(norm_input, input_shape=(1,28,28)),\n",
    "        Flatten(),\n",
    "        Dense(10, activation='softmax')\n",
    "        ])\n",
    "    model.compile(Adam(), loss='categorical_crossentropy', metrics=['accuracy'])\n",
    "    return model"
   ]
  },
  {
   "cell_type": "code",
   "execution_count": 71,
   "metadata": {
    "collapsed": true
   },
   "outputs": [],
   "source": [
    "ml1=get_lin_model()"
   ]
  },
  {
   "cell_type": "code",
   "execution_count": 54,
   "metadata": {
    "collapsed": true
   },
   "outputs": [],
   "source": [
    "#gen = image.ImageDataGenerator()\n",
    "\n",
    "gen = image.ImageDataGenerator(rotation_range=20, width_shift_range=0.1, \n",
    "       height_shift_range=0.1,  shear_range=0.15,\n",
    "       vertical_flip=True, \n",
    "       horizontal_flip=True)\n",
    "\n",
    "\n",
    "batches = gen.flow(trainX, y_train, batch_size=64)\n",
    "val_batches = gen.flow(valX, y_val, batch_size=64)\n",
    "#test_batches = gen.flow(testX, y_test, batch_size=64)"
   ]
  },
  {
   "cell_type": "code",
   "execution_count": null,
   "metadata": {
    "collapsed": false
   },
   "outputs": [],
   "source": []
  },
  {
   "cell_type": "code",
   "execution_count": null,
   "metadata": {
    "collapsed": false
   },
   "outputs": [],
   "source": []
  },
  {
   "cell_type": "code",
   "execution_count": null,
   "metadata": {
    "collapsed": false
   },
   "outputs": [],
   "source": []
  },
  {
   "cell_type": "code",
   "execution_count": null,
   "metadata": {
    "collapsed": false
   },
   "outputs": [],
   "source": []
  },
  {
   "cell_type": "code",
   "execution_count": 73,
   "metadata": {
    "collapsed": false
   },
   "outputs": [
    {
     "name": "stdout",
     "output_type": "stream",
     "text": [
      "Epoch 1/1\n",
      "33600/33600 [==============================] - 10s - loss: 0.5233 - acc: 0.8426 - val_loss: 0.3179 - val_acc: 0.9086\n"
     ]
    },
    {
     "data": {
      "text/plain": [
       "<keras.callbacks.History at 0x7f204ff8fdd8>"
      ]
     },
     "execution_count": 73,
     "metadata": {},
     "output_type": "execute_result"
    }
   ],
   "source": [
    "ml1.fit_generator(batches,batches.N,nb_epoch=1,validation_data=val_batches,nb_val_samples=val_batches.N)"
   ]
  },
  {
   "cell_type": "code",
   "execution_count": 75,
   "metadata": {
    "collapsed": false
   },
   "outputs": [],
   "source": [
    "def get_lin_model1():\n",
    "    model = Sequential([\n",
    "        Lambda(norm_input, input_shape=(1,28,28)),\n",
    "        Flatten(),\n",
    "        Dense(512, activation='relu'),\n",
    "        Dense(10, activation='softmax')\n",
    "        ])\n",
    "    model.compile(Adam(), loss='categorical_crossentropy', metrics=['accuracy'])\n",
    "    return model"
   ]
  },
  {
   "cell_type": "code",
   "execution_count": 76,
   "metadata": {
    "collapsed": true
   },
   "outputs": [],
   "source": [
    "ml2=get_lin_model1()"
   ]
  },
  {
   "cell_type": "code",
   "execution_count": 78,
   "metadata": {
    "collapsed": false
   },
   "outputs": [
    {
     "name": "stdout",
     "output_type": "stream",
     "text": [
      "Epoch 1/4\n",
      "33600/33600 [==============================] - 13s - loss: 0.0975 - acc: 0.9702 - val_loss: 0.1119 - val_acc: 0.9639\n",
      "Epoch 2/4\n",
      "33600/33600 [==============================] - 13s - loss: 0.0577 - acc: 0.9823 - val_loss: 0.1174 - val_acc: 0.9626\n",
      "Epoch 3/4\n",
      "33600/33600 [==============================] - 13s - loss: 0.0369 - acc: 0.9886 - val_loss: 0.1203 - val_acc: 0.9657\n",
      "Epoch 4/4\n",
      "33600/33600 [==============================] - 13s - loss: 0.0282 - acc: 0.9917 - val_loss: 0.1068 - val_acc: 0.9699\n"
     ]
    },
    {
     "data": {
      "text/plain": [
       "<keras.callbacks.History at 0x7f204eccdef0>"
      ]
     },
     "execution_count": 78,
     "metadata": {},
     "output_type": "execute_result"
    }
   ],
   "source": [
    "ml2.fit_generator(batches,batches.N,nb_epoch=4,validation_data=val_batches,nb_val_samples=val_batches.N)"
   ]
  },
  {
   "cell_type": "code",
   "execution_count": 84,
   "metadata": {
    "collapsed": true
   },
   "outputs": [],
   "source": [
    "ml2.optimizer.lr=0.1"
   ]
  },
  {
   "cell_type": "code",
   "execution_count": 85,
   "metadata": {
    "collapsed": false
   },
   "outputs": [
    {
     "name": "stdout",
     "output_type": "stream",
     "text": [
      "Epoch 1/4\n",
      "33600/33600 [==============================] - 14s - loss: 0.0158 - acc: 0.9949 - val_loss: 0.1239 - val_acc: 0.9751\n",
      "Epoch 2/4\n",
      "33600/33600 [==============================] - 13s - loss: 0.0092 - acc: 0.9968 - val_loss: 0.1131 - val_acc: 0.9787\n",
      "Epoch 3/4\n",
      "33600/33600 [==============================] - 13s - loss: 0.0147 - acc: 0.9949 - val_loss: 0.1604 - val_acc: 0.9714\n",
      "Epoch 4/4\n",
      "33600/33600 [==============================] - 13s - loss: 0.0174 - acc: 0.9945 - val_loss: 0.1352 - val_acc: 0.9743\n"
     ]
    },
    {
     "data": {
      "text/plain": [
       "<keras.callbacks.History at 0x7f204ecd10b8>"
      ]
     },
     "execution_count": 85,
     "metadata": {},
     "output_type": "execute_result"
    }
   ],
   "source": [
    "ml2.fit_generator(batches,batches.N,nb_epoch=4,validation_data=val_batches,nb_val_samples=val_batches.N)"
   ]
  },
  {
   "cell_type": "code",
   "execution_count": 12,
   "metadata": {
    "collapsed": true
   },
   "outputs": [],
   "source": [
    "def get_model():\n",
    "    model = Sequential([\n",
    "        Lambda(norm_input, input_shape=(1,28,28)),\n",
    "        Convolution2D(32,3,3, activation='relu'),\n",
    "        Convolution2D(32,3,3, activation='relu'),\n",
    "        MaxPooling2D(),\n",
    "        Convolution2D(64,3,3, activation='relu'),\n",
    "        Convolution2D(64,3,3, activation='relu'),\n",
    "        MaxPooling2D(),\n",
    "        Flatten(),\n",
    "        Dense(512, activation='relu'),\n",
    "        Dense(10, activation='softmax')\n",
    "        ])\n",
    "    model.compile(Adam(), loss='categorical_crossentropy', metrics=['accuracy'])\n",
    "    return model"
   ]
  },
  {
   "cell_type": "code",
   "execution_count": 87,
   "metadata": {
    "collapsed": false
   },
   "outputs": [
    {
     "name": "stderr",
     "output_type": "stream",
     "text": [
      "/home/ubuntu/anaconda3/lib/python3.5/site-packages/keras/backend/theano_backend.py:1282: UserWarning: DEPRECATION: the 'ds' parameter is not going to exist anymore as it is going to be replaced by the parameter 'ws'.\n",
      "  mode='max')\n",
      "/home/ubuntu/anaconda3/lib/python3.5/site-packages/keras/backend/theano_backend.py:1282: UserWarning: DEPRECATION: the 'st' parameter is not going to exist anymore as it is going to be replaced by the parameter 'stride'.\n",
      "  mode='max')\n",
      "/home/ubuntu/anaconda3/lib/python3.5/site-packages/keras/backend/theano_backend.py:1282: UserWarning: DEPRECATION: the 'padding' parameter is not going to exist anymore as it is going to be replaced by the parameter 'pad'.\n",
      "  mode='max')\n"
     ]
    }
   ],
   "source": [
    "model=get_model()"
   ]
  },
  {
   "cell_type": "code",
   "execution_count": 88,
   "metadata": {
    "collapsed": false
   },
   "outputs": [
    {
     "name": "stderr",
     "output_type": "stream",
     "text": [
      "INFO (theano.gof.compilelock): Refreshing lock /home/ubuntu/.theano/compiledir_Linux-3.13--generic-x86_64-with-debian-jessie-sid-x86_64-3.5.2-64/lock_dir/lock\n"
     ]
    },
    {
     "name": "stdout",
     "output_type": "stream",
     "text": [
      "Epoch 1/1\n",
      "33600/33600 [==============================] - 104s - loss: 0.1514 - acc: 0.9537 - val_loss: 0.0720 - val_acc: 0.9773\n"
     ]
    },
    {
     "data": {
      "text/plain": [
       "<keras.callbacks.History at 0x7f200c79b128>"
      ]
     },
     "execution_count": 88,
     "metadata": {},
     "output_type": "execute_result"
    }
   ],
   "source": [
    "model.fit_generator(batches, batches.N, nb_epoch=1, \n",
    "                    validation_data=val_batches, nb_val_samples=val_batches.N)"
   ]
  },
  {
   "cell_type": "code",
   "execution_count": 89,
   "metadata": {
    "collapsed": true
   },
   "outputs": [],
   "source": [
    "model.optimizer.lr=0.1"
   ]
  },
  {
   "cell_type": "code",
   "execution_count": 90,
   "metadata": {
    "collapsed": false
   },
   "outputs": [
    {
     "name": "stdout",
     "output_type": "stream",
     "text": [
      "Epoch 1/1\n",
      "33600/33600 [==============================] - 107s - loss: 0.0412 - acc: 0.9870 - val_loss: 0.0366 - val_acc: 0.9892\n"
     ]
    },
    {
     "data": {
      "text/plain": [
       "<keras.callbacks.History at 0x7f200d962358>"
      ]
     },
     "execution_count": 90,
     "metadata": {},
     "output_type": "execute_result"
    }
   ],
   "source": [
    "model.fit_generator(batches, batches.N, nb_epoch=1, \n",
    "                    validation_data=val_batches, nb_val_samples=val_batches.N)"
   ]
  },
  {
   "cell_type": "code",
   "execution_count": 91,
   "metadata": {
    "collapsed": true
   },
   "outputs": [],
   "source": [
    "model.optimizer.lr=0.01"
   ]
  },
  {
   "cell_type": "code",
   "execution_count": 92,
   "metadata": {
    "collapsed": false
   },
   "outputs": [
    {
     "name": "stdout",
     "output_type": "stream",
     "text": [
      "Epoch 1/8\n",
      "33600/33600 [==============================] - 108s - loss: 0.0274 - acc: 0.9913 - val_loss: 0.0425 - val_acc: 0.9864\n",
      "Epoch 2/8\n",
      "33600/33600 [==============================] - 108s - loss: 0.0197 - acc: 0.9937 - val_loss: 0.0443 - val_acc: 0.9887\n",
      "Epoch 3/8\n",
      "33600/33600 [==============================] - 109s - loss: 0.0164 - acc: 0.9944 - val_loss: 0.0433 - val_acc: 0.9880\n",
      "Epoch 4/8\n",
      "33600/33600 [==============================] - 108s - loss: 0.0138 - acc: 0.9956 - val_loss: 0.0463 - val_acc: 0.9849\n",
      "Epoch 5/8\n",
      "33600/33600 [==============================] - 108s - loss: 0.0122 - acc: 0.9960 - val_loss: 0.0394 - val_acc: 0.9907\n",
      "Epoch 6/8\n",
      "33600/33600 [==============================] - 108s - loss: 0.0093 - acc: 0.9970 - val_loss: 0.0749 - val_acc: 0.9813\n",
      "Epoch 7/8\n",
      "33600/33600 [==============================] - 107s - loss: 0.0131 - acc: 0.9960 - val_loss: 0.0555 - val_acc: 0.9869\n",
      "Epoch 8/8\n",
      "33600/33600 [==============================] - 107s - loss: 0.0089 - acc: 0.9972 - val_loss: 0.0447 - val_acc: 0.9888\n"
     ]
    },
    {
     "data": {
      "text/plain": [
       "<keras.callbacks.History at 0x7f200c77b9e8>"
      ]
     },
     "execution_count": 92,
     "metadata": {},
     "output_type": "execute_result"
    }
   ],
   "source": [
    "model.fit_generator(batches, batches.N, nb_epoch=8, \n",
    "                    validation_data=val_batches, nb_val_samples=val_batches.N)"
   ]
  },
  {
   "cell_type": "code",
   "execution_count": 13,
   "metadata": {
    "collapsed": false
   },
   "outputs": [
    {
     "name": "stderr",
     "output_type": "stream",
     "text": [
      "/home/ubuntu/anaconda3/lib/python3.5/site-packages/keras/backend/theano_backend.py:1282: UserWarning: DEPRECATION: the 'ds' parameter is not going to exist anymore as it is going to be replaced by the parameter 'ws'.\n",
      "  mode='max')\n",
      "/home/ubuntu/anaconda3/lib/python3.5/site-packages/keras/backend/theano_backend.py:1282: UserWarning: DEPRECATION: the 'st' parameter is not going to exist anymore as it is going to be replaced by the parameter 'stride'.\n",
      "  mode='max')\n",
      "/home/ubuntu/anaconda3/lib/python3.5/site-packages/keras/backend/theano_backend.py:1282: UserWarning: DEPRECATION: the 'padding' parameter is not going to exist anymore as it is going to be replaced by the parameter 'pad'.\n",
      "  mode='max')\n"
     ]
    }
   ],
   "source": [
    "model=get_model()"
   ]
  },
  {
   "cell_type": "code",
   "execution_count": 11,
   "metadata": {
    "collapsed": true
   },
   "outputs": [],
   "source": [
    "gen = image.ImageDataGenerator(rotation_range=8, width_shift_range=0.08, shear_range=0.3,\n",
    "                               height_shift_range=0.08, zoom_range=0.08)\n",
    "batches = gen.flow(trainX, y_train, batch_size=64)\n",
    "val_batches = gen.flow(valX, y_val, batch_size=64)"
   ]
  },
  {
   "cell_type": "code",
   "execution_count": 15,
   "metadata": {
    "collapsed": false
   },
   "outputs": [
    {
     "name": "stderr",
     "output_type": "stream",
     "text": [
      "WARNING (theano.gof.compilelock): Overriding existing lock by dead process '18085' (I am process '8391')\n"
     ]
    },
    {
     "name": "stdout",
     "output_type": "stream",
     "text": [
      "Epoch 1/1\n",
      "33600/33600 [==============================] - 106s - loss: 0.2839 - acc: 0.9085 - val_loss: 0.0999 - val_acc: 0.9687\n"
     ]
    },
    {
     "data": {
      "text/plain": [
       "<keras.callbacks.History at 0x7f2c2cc2d048>"
      ]
     },
     "execution_count": 15,
     "metadata": {},
     "output_type": "execute_result"
    }
   ],
   "source": [
    "model.fit_generator(batches,batches.N,nb_epoch=1,validation_data=val_batches,nb_val_samples=val_batches.N)"
   ]
  },
  {
   "cell_type": "code",
   "execution_count": 16,
   "metadata": {
    "collapsed": true
   },
   "outputs": [],
   "source": [
    "model.optimizer.lr=0.01"
   ]
  },
  {
   "cell_type": "code",
   "execution_count": 18,
   "metadata": {
    "collapsed": false
   },
   "outputs": [
    {
     "name": "stdout",
     "output_type": "stream",
     "text": [
      "Epoch 1/7\n",
      "33600/33600 [==============================] - 111s - loss: 0.0441 - acc: 0.9864 - val_loss: 0.0528 - val_acc: 0.9843\n",
      "Epoch 2/7\n",
      "33600/33600 [==============================] - 111s - loss: 0.0449 - acc: 0.9864 - val_loss: 0.0476 - val_acc: 0.9861\n",
      "Epoch 3/7\n",
      "33600/33600 [==============================] - 112s - loss: 0.0411 - acc: 0.9873 - val_loss: 0.0468 - val_acc: 0.9844\n",
      "Epoch 4/7\n",
      "33600/33600 [==============================] - 111s - loss: 0.0401 - acc: 0.9877 - val_loss: 0.0491 - val_acc: 0.9858\n",
      "Epoch 5/7\n",
      "33600/33600 [==============================] - 111s - loss: 0.0347 - acc: 0.9890 - val_loss: 0.0595 - val_acc: 0.9804\n",
      "Epoch 6/7\n",
      "33600/33600 [==============================] - 111s - loss: 0.0338 - acc: 0.9893 - val_loss: 0.0374 - val_acc: 0.9898\n",
      "Epoch 7/7\n",
      "33600/33600 [==============================] - 110s - loss: 0.0339 - acc: 0.9897 - val_loss: 0.0357 - val_acc: 0.9896\n"
     ]
    },
    {
     "data": {
      "text/plain": [
       "<keras.callbacks.History at 0x7f2c2cc2df60>"
      ]
     },
     "execution_count": 18,
     "metadata": {},
     "output_type": "execute_result"
    }
   ],
   "source": [
    "model.fit_generator(batches,batches.N,nb_epoch=7,validation_data=val_batches,nb_val_samples=val_batches.N)"
   ]
  },
  {
   "cell_type": "code",
   "execution_count": 19,
   "metadata": {
    "collapsed": true
   },
   "outputs": [],
   "source": [
    "model.optimizer.lr=0.001"
   ]
  },
  {
   "cell_type": "code",
   "execution_count": 20,
   "metadata": {
    "collapsed": false
   },
   "outputs": [
    {
     "name": "stdout",
     "output_type": "stream",
     "text": [
      "Epoch 1/14\n",
      "33600/33600 [==============================] - 110s - loss: 0.0310 - acc: 0.9904 - val_loss: 0.0441 - val_acc: 0.9886\n",
      "Epoch 2/14\n",
      "33600/33600 [==============================] - 110s - loss: 0.0280 - acc: 0.9913 - val_loss: 0.0614 - val_acc: 0.9812\n",
      "Epoch 3/14\n",
      "33600/33600 [==============================] - 110s - loss: 0.0275 - acc: 0.9907 - val_loss: 0.0792 - val_acc: 0.9804\n",
      "Epoch 4/14\n",
      "33600/33600 [==============================] - 110s - loss: 0.0294 - acc: 0.9909 - val_loss: 0.0471 - val_acc: 0.9860\n",
      "Epoch 5/14\n",
      "33600/33600 [==============================] - 110s - loss: 0.0274 - acc: 0.9913 - val_loss: 0.0444 - val_acc: 0.9873\n",
      "Epoch 6/14\n",
      "33600/33600 [==============================] - 110s - loss: 0.0245 - acc: 0.9920 - val_loss: 0.0533 - val_acc: 0.9861\n",
      "Epoch 7/14\n",
      "33600/33600 [==============================] - 110s - loss: 0.0258 - acc: 0.9921 - val_loss: 0.0496 - val_acc: 0.9852\n",
      "Epoch 8/14\n",
      "33600/33600 [==============================] - 109s - loss: 0.0248 - acc: 0.9921 - val_loss: 0.0457 - val_acc: 0.9889\n",
      "Epoch 9/14\n",
      "33600/33600 [==============================] - 109s - loss: 0.0234 - acc: 0.9929 - val_loss: 0.0429 - val_acc: 0.9885\n",
      "Epoch 10/14\n",
      "33600/33600 [==============================] - 109s - loss: 0.0237 - acc: 0.9927 - val_loss: 0.0491 - val_acc: 0.9858\n",
      "Epoch 11/14\n",
      "33600/33600 [==============================] - 110s - loss: 0.0225 - acc: 0.9928 - val_loss: 0.0446 - val_acc: 0.9894\n",
      "Epoch 12/14\n",
      "33600/33600 [==============================] - 109s - loss: 0.0224 - acc: 0.9929 - val_loss: 0.0397 - val_acc: 0.9883\n",
      "Epoch 13/14\n",
      "33600/33600 [==============================] - 109s - loss: 0.0206 - acc: 0.9934 - val_loss: 0.0443 - val_acc: 0.9889\n",
      "Epoch 14/14\n",
      "33600/33600 [==============================] - 109s - loss: 0.0206 - acc: 0.9934 - val_loss: 0.0420 - val_acc: 0.9889\n"
     ]
    },
    {
     "data": {
      "text/plain": [
       "<keras.callbacks.History at 0x7f2c2cc2d320>"
      ]
     },
     "execution_count": 20,
     "metadata": {},
     "output_type": "execute_result"
    }
   ],
   "source": [
    "model.fit_generator(batches,batches.N,nb_epoch=14,validation_data=val_batches,nb_val_samples=val_batches.N)"
   ]
  },
  {
   "cell_type": "code",
   "execution_count": 21,
   "metadata": {
    "collapsed": true
   },
   "outputs": [],
   "source": [
    "model.optimizer.lr=0.0001"
   ]
  },
  {
   "cell_type": "code",
   "execution_count": 22,
   "metadata": {
    "collapsed": false
   },
   "outputs": [
    {
     "name": "stdout",
     "output_type": "stream",
     "text": [
      "Epoch 1/10\n",
      "33600/33600 [==============================] - 110s - loss: 0.0202 - acc: 0.9937 - val_loss: 0.0395 - val_acc: 0.9885\n",
      "Epoch 2/10\n",
      "33600/33600 [==============================] - 110s - loss: 0.0193 - acc: 0.9934 - val_loss: 0.0392 - val_acc: 0.9900\n",
      "Epoch 3/10\n",
      "33600/33600 [==============================] - 109s - loss: 0.0212 - acc: 0.9932 - val_loss: 0.0462 - val_acc: 0.9863\n",
      "Epoch 4/10\n",
      "33600/33600 [==============================] - 109s - loss: 0.0192 - acc: 0.9940 - val_loss: 0.0521 - val_acc: 0.9875\n",
      "Epoch 5/10\n",
      "33600/33600 [==============================] - 109s - loss: 0.0181 - acc: 0.9940 - val_loss: 0.0405 - val_acc: 0.9910\n",
      "Epoch 6/10\n",
      "33600/33600 [==============================] - 109s - loss: 0.0192 - acc: 0.9941 - val_loss: 0.0278 - val_acc: 0.9917\n",
      "Epoch 7/10\n",
      "33600/33600 [==============================] - 110s - loss: 0.0189 - acc: 0.9942 - val_loss: 0.0408 - val_acc: 0.9902\n",
      "Epoch 8/10\n",
      "33600/33600 [==============================] - 108s - loss: 0.0168 - acc: 0.9948 - val_loss: 0.0523 - val_acc: 0.9885\n",
      "Epoch 9/10\n",
      "33600/33600 [==============================] - 109s - loss: 0.0190 - acc: 0.9942 - val_loss: 0.0370 - val_acc: 0.9899\n",
      "Epoch 10/10\n",
      "33600/33600 [==============================] - 109s - loss: 0.0197 - acc: 0.9937 - val_loss: 0.0341 - val_acc: 0.9901\n"
     ]
    },
    {
     "data": {
      "text/plain": [
       "<keras.callbacks.History at 0x7f2c2cc2ddd8>"
      ]
     },
     "execution_count": 22,
     "metadata": {},
     "output_type": "execute_result"
    }
   ],
   "source": [
    "model.fit_generator(batches,batches.N,nb_epoch=10,validation_data=val_batches,nb_val_samples=val_batches.N)"
   ]
  },
  {
   "cell_type": "code",
   "execution_count": 12,
   "metadata": {
    "collapsed": true
   },
   "outputs": [],
   "source": [
    "def get_model_bn():\n",
    "    model = Sequential([\n",
    "        Lambda(norm_input, input_shape=(1,28,28)),\n",
    "        Convolution2D(32,3,3, activation='relu'),\n",
    "        BatchNormalization(axis=1),\n",
    "        Convolution2D(32,3,3, activation='relu'),\n",
    "        MaxPooling2D(),\n",
    "        BatchNormalization(axis=1),\n",
    "        Convolution2D(64,3,3, activation='relu'),\n",
    "        BatchNormalization(axis=1),\n",
    "        Convolution2D(64,3,3, activation='relu'),\n",
    "        MaxPooling2D(),\n",
    "        Flatten(),\n",
    "        BatchNormalization(),\n",
    "        Dense(512, activation='relu'),\n",
    "        BatchNormalization(),\n",
    "        Dense(10, activation='softmax')\n",
    "        ])\n",
    "    model.compile(Adam(), loss='categorical_crossentropy', metrics=['accuracy'])\n",
    "    return model"
   ]
  },
  {
   "cell_type": "code",
   "execution_count": 24,
   "metadata": {
    "collapsed": false
   },
   "outputs": [
    {
     "name": "stderr",
     "output_type": "stream",
     "text": [
      "/home/ubuntu/anaconda3/lib/python3.5/site-packages/keras/backend/theano_backend.py:1282: UserWarning: DEPRECATION: the 'ds' parameter is not going to exist anymore as it is going to be replaced by the parameter 'ws'.\n",
      "  mode='max')\n",
      "/home/ubuntu/anaconda3/lib/python3.5/site-packages/keras/backend/theano_backend.py:1282: UserWarning: DEPRECATION: the 'st' parameter is not going to exist anymore as it is going to be replaced by the parameter 'stride'.\n",
      "  mode='max')\n",
      "/home/ubuntu/anaconda3/lib/python3.5/site-packages/keras/backend/theano_backend.py:1282: UserWarning: DEPRECATION: the 'padding' parameter is not going to exist anymore as it is going to be replaced by the parameter 'pad'.\n",
      "  mode='max')\n"
     ]
    }
   ],
   "source": [
    "model=get_model_bn()"
   ]
  },
  {
   "cell_type": "code",
   "execution_count": 25,
   "metadata": {
    "collapsed": false
   },
   "outputs": [
    {
     "name": "stdout",
     "output_type": "stream",
     "text": [
      "Epoch 1/1\n",
      "33600/33600 [==============================] - 148s - loss: 0.2048 - acc: 0.9350 - val_loss: 0.1963 - val_acc: 0.9419\n"
     ]
    },
    {
     "data": {
      "text/plain": [
       "<keras.callbacks.History at 0x7f2c03023438>"
      ]
     },
     "execution_count": 25,
     "metadata": {},
     "output_type": "execute_result"
    }
   ],
   "source": [
    "        model.fit_generator(batches,batches.N,nb_epoch=1,validation_data=val_batches,nb_val_samples=val_batches.N)"
   ]
  },
  {
   "cell_type": "code",
   "execution_count": 26,
   "metadata": {
    "collapsed": true
   },
   "outputs": [],
   "source": [
    "model.optimizer.lr=0.1"
   ]
  },
  {
   "cell_type": "code",
   "execution_count": 27,
   "metadata": {
    "collapsed": false
   },
   "outputs": [
    {
     "name": "stdout",
     "output_type": "stream",
     "text": [
      "Epoch 1/4\n",
      "33600/33600 [==============================] - 150s - loss: 0.0820 - acc: 0.9735 - val_loss: 0.0704 - val_acc: 0.9788\n",
      "Epoch 2/4\n",
      "33600/33600 [==============================] - 148s - loss: 0.0731 - acc: 0.9768 - val_loss: 0.0626 - val_acc: 0.9825\n",
      "Epoch 3/4\n",
      "33600/33600 [==============================] - 147s - loss: 0.0575 - acc: 0.9815 - val_loss: 0.0490 - val_acc: 0.9857\n",
      "Epoch 4/4\n",
      "33600/33600 [==============================] - 147s - loss: 0.0534 - acc: 0.9838 - val_loss: 0.0694 - val_acc: 0.9781\n"
     ]
    },
    {
     "data": {
      "text/plain": [
       "<keras.callbacks.History at 0x7f2c045285f8>"
      ]
     },
     "execution_count": 27,
     "metadata": {},
     "output_type": "execute_result"
    }
   ],
   "source": [
    "    model.fit_generator(batches,batches.N,nb_epoch=4,validation_data=val_batches,nb_val_samples=val_batches.N)"
   ]
  },
  {
   "cell_type": "code",
   "execution_count": 29,
   "metadata": {
    "collapsed": true
   },
   "outputs": [],
   "source": [
    "model.optimizer.lr=0.01"
   ]
  },
  {
   "cell_type": "code",
   "execution_count": 30,
   "metadata": {
    "collapsed": false
   },
   "outputs": [
    {
     "name": "stdout",
     "output_type": "stream",
     "text": [
      "Epoch 1/12\n",
      "33600/33600 [==============================] - 148s - loss: 0.0505 - acc: 0.9841 - val_loss: 0.0629 - val_acc: 0.9800\n",
      "Epoch 2/12\n",
      "33600/33600 [==============================] - 147s - loss: 0.0443 - acc: 0.9854 - val_loss: 0.0671 - val_acc: 0.9796\n",
      "Epoch 3/12\n",
      "33600/33600 [==============================] - 147s - loss: 0.0436 - acc: 0.9862 - val_loss: 0.0415 - val_acc: 0.9885\n",
      "Epoch 4/12\n",
      "33600/33600 [==============================] - 148s - loss: 0.0422 - acc: 0.9864 - val_loss: 0.0524 - val_acc: 0.9850\n",
      "Epoch 5/12\n",
      "33600/33600 [==============================] - 148s - loss: 0.0392 - acc: 0.9876 - val_loss: 0.0359 - val_acc: 0.9900\n",
      "Epoch 6/12\n",
      "33600/33600 [==============================] - 148s - loss: 0.0374 - acc: 0.9873 - val_loss: 0.0482 - val_acc: 0.9863\n",
      "Epoch 7/12\n",
      "33600/33600 [==============================] - 148s - loss: 0.0353 - acc: 0.9882 - val_loss: 0.0466 - val_acc: 0.9875\n",
      "Epoch 8/12\n",
      "33600/33600 [==============================] - 150s - loss: 0.0361 - acc: 0.9882 - val_loss: 0.0443 - val_acc: 0.9882\n",
      "Epoch 9/12\n",
      "33600/33600 [==============================] - 149s - loss: 0.0309 - acc: 0.9903 - val_loss: 0.0355 - val_acc: 0.9898\n",
      "Epoch 10/12\n",
      "33600/33600 [==============================] - 147s - loss: 0.0301 - acc: 0.9902 - val_loss: 0.0414 - val_acc: 0.9880\n",
      "Epoch 11/12\n",
      "33600/33600 [==============================] - 147s - loss: 0.0276 - acc: 0.9918 - val_loss: 0.0322 - val_acc: 0.9905\n",
      "Epoch 12/12\n",
      "33600/33600 [==============================] - 147s - loss: 0.0280 - acc: 0.9905 - val_loss: 0.0448 - val_acc: 0.9876\n"
     ]
    },
    {
     "data": {
      "text/plain": [
       "<keras.callbacks.History at 0x7f2c03023630>"
      ]
     },
     "execution_count": 30,
     "metadata": {},
     "output_type": "execute_result"
    }
   ],
   "source": [
    "model.fit_generator(batches,batches.N,nb_epoch=12,validation_data=val_batches,nb_val_samples=val_batches.N)"
   ]
  },
  {
   "cell_type": "code",
   "execution_count": 13,
   "metadata": {
    "collapsed": true
   },
   "outputs": [],
   "source": [
    "def get_model_bn_do():\n",
    "    model = Sequential([\n",
    "        Lambda(norm_input, input_shape=(1,28,28)),\n",
    "        Convolution2D(32,3,3, activation='relu'),\n",
    "        BatchNormalization(axis=1),\n",
    "        Convolution2D(32,3,3, activation='relu'),\n",
    "        MaxPooling2D(),\n",
    "        BatchNormalization(axis=1),\n",
    "        Convolution2D(64,3,3, activation='relu'),\n",
    "        BatchNormalization(axis=1),\n",
    "        Convolution2D(64,3,3, activation='relu'),\n",
    "        MaxPooling2D(),\n",
    "        Flatten(),\n",
    "        BatchNormalization(),\n",
    "        Dense(512, activation='relu'),\n",
    "        BatchNormalization(),\n",
    "        Dropout(0.5),\n",
    "        Dense(10, activation='softmax')\n",
    "        ])\n",
    "    model.compile(Adam(), loss='categorical_crossentropy', metrics=['accuracy'])\n",
    "    return model"
   ]
  },
  {
   "cell_type": "code",
   "execution_count": 14,
   "metadata": {
    "collapsed": false
   },
   "outputs": [
    {
     "name": "stderr",
     "output_type": "stream",
     "text": [
      "/home/ubuntu/anaconda3/lib/python3.5/site-packages/keras/backend/theano_backend.py:1282: UserWarning: DEPRECATION: the 'ds' parameter is not going to exist anymore as it is going to be replaced by the parameter 'ws'.\n",
      "  mode='max')\n",
      "/home/ubuntu/anaconda3/lib/python3.5/site-packages/keras/backend/theano_backend.py:1282: UserWarning: DEPRECATION: the 'st' parameter is not going to exist anymore as it is going to be replaced by the parameter 'stride'.\n",
      "  mode='max')\n",
      "/home/ubuntu/anaconda3/lib/python3.5/site-packages/keras/backend/theano_backend.py:1282: UserWarning: DEPRECATION: the 'padding' parameter is not going to exist anymore as it is going to be replaced by the parameter 'pad'.\n",
      "  mode='max')\n"
     ]
    },
    {
     "name": "stdout",
     "output_type": "stream",
     "text": [
      "Epoch 1/1\n",
      "33600/33600 [==============================] - 110s - loss: 0.2990 - acc: 0.9104 - val_loss: 0.3036 - val_acc: 0.9138\n",
      "Epoch 1/4\n",
      "33600/33600 [==============================] - 116s - loss: 0.1170 - acc: 0.9634 - val_loss: 0.0925 - val_acc: 0.9711\n",
      "Epoch 2/4\n",
      "33600/33600 [==============================] - 95s - loss: 0.0921 - acc: 0.9709 - val_loss: 0.0685 - val_acc: 0.9783\n",
      "Epoch 3/4\n",
      "33600/33600 [==============================] - 103s - loss: 0.0787 - acc: 0.9757 - val_loss: 0.0574 - val_acc: 0.9827\n",
      "Epoch 4/4\n",
      "33600/33600 [==============================] - 95s - loss: 0.0762 - acc: 0.9767 - val_loss: 0.0475 - val_acc: 0.9858\n",
      "Epoch 1/12\n",
      "33600/33600 [==============================] - 97s - loss: 0.0626 - acc: 0.9793 - val_loss: 0.0539 - val_acc: 0.9839\n",
      "Epoch 2/12\n",
      "33600/33600 [==============================] - 106s - loss: 0.0603 - acc: 0.9812 - val_loss: 0.0534 - val_acc: 0.9832\n",
      "Epoch 3/12\n",
      "33600/33600 [==============================] - 103s - loss: 0.0574 - acc: 0.9821 - val_loss: 0.0486 - val_acc: 0.9844\n",
      "Epoch 4/12\n",
      "33600/33600 [==============================] - 98s - loss: 0.0559 - acc: 0.9827 - val_loss: 0.0403 - val_acc: 0.9867\n",
      "Epoch 5/12\n",
      "33600/33600 [==============================] - 107s - loss: 0.0556 - acc: 0.9827 - val_loss: 0.0422 - val_acc: 0.9874\n",
      "Epoch 6/12\n",
      "33600/33600 [==============================] - 97s - loss: 0.0526 - acc: 0.9833 - val_loss: 0.0397 - val_acc: 0.9888\n",
      "Epoch 7/12\n",
      "33600/33600 [==============================] - 99s - loss: 0.0472 - acc: 0.9858 - val_loss: 0.0375 - val_acc: 0.9892\n",
      "Epoch 8/12\n",
      "33600/33600 [==============================] - 103s - loss: 0.0466 - acc: 0.9851 - val_loss: 0.0467 - val_acc: 0.9851\n",
      "Epoch 9/12\n",
      "33600/33600 [==============================] - 95s - loss: 0.0450 - acc: 0.9858 - val_loss: 0.0329 - val_acc: 0.9912\n",
      "Epoch 10/12\n",
      "33600/33600 [==============================] - 95s - loss: 0.0428 - acc: 0.9870 - val_loss: 0.0357 - val_acc: 0.9901\n",
      "Epoch 11/12\n",
      "33600/33600 [==============================] - 97s - loss: 0.0413 - acc: 0.9875 - val_loss: 0.0349 - val_acc: 0.9910\n",
      "Epoch 12/12\n",
      "33600/33600 [==============================] - 103s - loss: 0.0431 - acc: 0.9867 - val_loss: 0.0378 - val_acc: 0.9877\n",
      "Epoch 1/18\n",
      "33600/33600 [==============================] - 97s - loss: 0.0365 - acc: 0.9885 - val_loss: 0.0364 - val_acc: 0.9885\n",
      "Epoch 2/18\n",
      "33600/33600 [==============================] - 104s - loss: 0.0403 - acc: 0.9879 - val_loss: 0.0339 - val_acc: 0.9889\n",
      "Epoch 3/18\n",
      "33600/33600 [==============================] - 105s - loss: 0.0383 - acc: 0.9880 - val_loss: 0.0353 - val_acc: 0.9904\n",
      "Epoch 4/18\n",
      "33600/33600 [==============================] - 96s - loss: 0.0364 - acc: 0.9890 - val_loss: 0.0343 - val_acc: 0.9908\n",
      "Epoch 5/18\n",
      "33600/33600 [==============================] - 113s - loss: 0.0341 - acc: 0.9893 - val_loss: 0.0354 - val_acc: 0.9907\n",
      "Epoch 6/18\n",
      "33600/33600 [==============================] - 112s - loss: 0.0334 - acc: 0.9890 - val_loss: 0.0435 - val_acc: 0.9889\n",
      "Epoch 7/18\n",
      "33600/33600 [==============================] - 96s - loss: 0.0323 - acc: 0.9898 - val_loss: 0.0427 - val_acc: 0.9882\n",
      "Epoch 8/18\n",
      "33600/33600 [==============================] - 106s - loss: 0.0308 - acc: 0.9897 - val_loss: 0.0386 - val_acc: 0.9898\n",
      "Epoch 9/18\n",
      "33600/33600 [==============================] - 100s - loss: 0.0295 - acc: 0.9907 - val_loss: 0.0372 - val_acc: 0.9895\n",
      "Epoch 10/18\n",
      "33600/33600 [==============================] - 102s - loss: 0.0276 - acc: 0.9915 - val_loss: 0.0389 - val_acc: 0.9894\n",
      "Epoch 11/18\n",
      "33600/33600 [==============================] - 110s - loss: 0.0288 - acc: 0.9911 - val_loss: 0.0333 - val_acc: 0.9920\n",
      "Epoch 12/18\n",
      "33600/33600 [==============================] - 96s - loss: 0.0290 - acc: 0.9907 - val_loss: 0.0326 - val_acc: 0.9915\n",
      "Epoch 13/18\n",
      "33600/33600 [==============================] - 94s - loss: 0.0286 - acc: 0.9905 - val_loss: 0.0377 - val_acc: 0.9886\n",
      "Epoch 14/18\n",
      "33600/33600 [==============================] - 97s - loss: 0.0288 - acc: 0.9912 - val_loss: 0.0288 - val_acc: 0.9926\n",
      "Epoch 15/18\n",
      "33600/33600 [==============================] - 95s - loss: 0.0334 - acc: 0.9888 - val_loss: 0.0290 - val_acc: 0.9913\n",
      "Epoch 16/18\n",
      "33600/33600 [==============================] - 99s - loss: 0.0289 - acc: 0.9909 - val_loss: 0.0373 - val_acc: 0.9900\n",
      "Epoch 17/18\n",
      "33600/33600 [==============================] - 95s - loss: 0.0282 - acc: 0.9911 - val_loss: 0.0370 - val_acc: 0.9901\n",
      "Epoch 18/18\n",
      "33600/33600 [==============================] - 96s - loss: 0.0250 - acc: 0.9917 - val_loss: 0.0339 - val_acc: 0.9913\n"
     ]
    },
    {
     "name": "stderr",
     "output_type": "stream",
     "text": [
      "/home/ubuntu/anaconda3/lib/python3.5/site-packages/keras/backend/theano_backend.py:1282: UserWarning: DEPRECATION: the 'ds' parameter is not going to exist anymore as it is going to be replaced by the parameter 'ws'.\n",
      "  mode='max')\n",
      "/home/ubuntu/anaconda3/lib/python3.5/site-packages/keras/backend/theano_backend.py:1282: UserWarning: DEPRECATION: the 'st' parameter is not going to exist anymore as it is going to be replaced by the parameter 'stride'.\n",
      "  mode='max')\n",
      "/home/ubuntu/anaconda3/lib/python3.5/site-packages/keras/backend/theano_backend.py:1282: UserWarning: DEPRECATION: the 'padding' parameter is not going to exist anymore as it is going to be replaced by the parameter 'pad'.\n",
      "  mode='max')\n"
     ]
    },
    {
     "name": "stdout",
     "output_type": "stream",
     "text": [
      "Epoch 1/1\n",
      "33600/33600 [==============================] - 103s - loss: 0.3139 - acc: 0.9067 - val_loss: 0.1581 - val_acc: 0.9518\n",
      "Epoch 1/4\n",
      "33600/33600 [==============================] - 96s - loss: 0.1187 - acc: 0.9631 - val_loss: 0.0736 - val_acc: 0.9782\n",
      "Epoch 2/4\n",
      "33600/33600 [==============================] - 97s - loss: 0.0932 - acc: 0.9714 - val_loss: 0.0625 - val_acc: 0.9788\n",
      "Epoch 3/4\n",
      "33600/33600 [==============================] - 97s - loss: 0.0790 - acc: 0.9759 - val_loss: 0.0666 - val_acc: 0.9787\n",
      "Epoch 4/4\n",
      "33600/33600 [==============================] - 97s - loss: 0.0724 - acc: 0.9777 - val_loss: 0.0557 - val_acc: 0.9814\n",
      "Epoch 1/12\n",
      "33600/33600 [==============================] - 107s - loss: 0.0653 - acc: 0.9792 - val_loss: 0.0759 - val_acc: 0.9760\n",
      "Epoch 2/12\n",
      "33600/33600 [==============================] - 95s - loss: 0.0593 - acc: 0.9818 - val_loss: 0.0600 - val_acc: 0.9801\n",
      "Epoch 3/12\n",
      "33600/33600 [==============================] - 103s - loss: 0.0576 - acc: 0.9815 - val_loss: 0.0456 - val_acc: 0.9852\n",
      "Epoch 4/12\n",
      "33600/33600 [==============================] - 98s - loss: 0.0566 - acc: 0.9825 - val_loss: 0.0458 - val_acc: 0.9861\n",
      "Epoch 5/12\n",
      "33600/33600 [==============================] - 102s - loss: 0.0520 - acc: 0.9832 - val_loss: 0.0506 - val_acc: 0.9846\n",
      "Epoch 6/12\n",
      "33600/33600 [==============================] - 102s - loss: 0.0514 - acc: 0.9850 - val_loss: 0.0362 - val_acc: 0.9882\n",
      "Epoch 7/12\n",
      "33600/33600 [==============================] - 107s - loss: 0.0467 - acc: 0.9852 - val_loss: 0.0435 - val_acc: 0.9875\n",
      "Epoch 8/12\n",
      "33600/33600 [==============================] - 95s - loss: 0.0489 - acc: 0.9849 - val_loss: 0.0369 - val_acc: 0.9888\n",
      "Epoch 9/12\n",
      "33600/33600 [==============================] - 95s - loss: 0.0437 - acc: 0.9862 - val_loss: 0.0408 - val_acc: 0.9886\n",
      "Epoch 10/12\n",
      "33600/33600 [==============================] - 107s - loss: 0.0446 - acc: 0.9862 - val_loss: 0.0334 - val_acc: 0.9904\n",
      "Epoch 11/12\n",
      "33600/33600 [==============================] - 100s - loss: 0.0408 - acc: 0.9868 - val_loss: 0.0417 - val_acc: 0.9877\n",
      "Epoch 12/12\n",
      "33600/33600 [==============================] - 96s - loss: 0.0399 - acc: 0.9876 - val_loss: 0.0394 - val_acc: 0.9892\n",
      "Epoch 1/18\n",
      "33600/33600 [==============================] - 101s - loss: 0.0389 - acc: 0.9881 - val_loss: 0.0449 - val_acc: 0.9868\n",
      "Epoch 2/18\n",
      "33600/33600 [==============================] - 121s - loss: 0.0398 - acc: 0.9879 - val_loss: 0.0434 - val_acc: 0.9874\n",
      "Epoch 3/18\n",
      "33600/33600 [==============================] - 103s - loss: 0.0345 - acc: 0.9893 - val_loss: 0.0433 - val_acc: 0.9864\n",
      "Epoch 4/18\n",
      "33600/33600 [==============================] - 95s - loss: 0.0346 - acc: 0.9891 - val_loss: 0.0392 - val_acc: 0.9883\n",
      "Epoch 5/18\n",
      "33600/33600 [==============================] - 99s - loss: 0.0353 - acc: 0.9893 - val_loss: 0.0416 - val_acc: 0.9869\n",
      "Epoch 6/18\n",
      "33600/33600 [==============================] - 105s - loss: 0.0355 - acc: 0.9891 - val_loss: 0.0301 - val_acc: 0.9910\n",
      "Epoch 7/18\n",
      "33600/33600 [==============================] - 100s - loss: 0.0313 - acc: 0.9898 - val_loss: 0.0366 - val_acc: 0.9890\n",
      "Epoch 8/18\n",
      "33600/33600 [==============================] - 100s - loss: 0.0334 - acc: 0.9894 - val_loss: 0.0377 - val_acc: 0.9896\n",
      "Epoch 9/18\n",
      "33600/33600 [==============================] - 106s - loss: 0.0327 - acc: 0.9900 - val_loss: 0.0296 - val_acc: 0.9906\n",
      "Epoch 10/18\n",
      "33600/33600 [==============================] - 97s - loss: 0.0297 - acc: 0.9908 - val_loss: 0.0371 - val_acc: 0.9898\n",
      "Epoch 11/18\n",
      "33600/33600 [==============================] - 103s - loss: 0.0298 - acc: 0.9911 - val_loss: 0.0366 - val_acc: 0.9900\n",
      "Epoch 12/18\n",
      "33600/33600 [==============================] - 106s - loss: 0.0309 - acc: 0.9904 - val_loss: 0.0420 - val_acc: 0.9894\n",
      "Epoch 13/18\n",
      "33600/33600 [==============================] - 106s - loss: 0.0280 - acc: 0.9914 - val_loss: 0.0345 - val_acc: 0.9904\n",
      "Epoch 14/18\n",
      "33600/33600 [==============================] - 108s - loss: 0.0278 - acc: 0.9915 - val_loss: 0.0260 - val_acc: 0.9913\n",
      "Epoch 15/18\n",
      "33600/33600 [==============================] - 108s - loss: 0.0267 - acc: 0.9917 - val_loss: 0.0329 - val_acc: 0.9910\n",
      "Epoch 16/18\n",
      "33600/33600 [==============================] - 98s - loss: 0.0268 - acc: 0.9915 - val_loss: 0.0315 - val_acc: 0.9901\n",
      "Epoch 17/18\n",
      "33600/33600 [==============================] - 100s - loss: 0.0267 - acc: 0.9910 - val_loss: 0.0295 - val_acc: 0.9927\n",
      "Epoch 18/18\n",
      "33600/33600 [==============================] - 108s - loss: 0.0257 - acc: 0.9917 - val_loss: 0.0292 - val_acc: 0.9914\n",
      "Epoch 1/1\n",
      "33600/33600 [==============================] - 106s - loss: 0.2985 - acc: 0.9109 - val_loss: 0.1521 - val_acc: 0.9518\n",
      "Epoch 1/4\n",
      "33600/33600 [==============================] - 99s - loss: 0.1201 - acc: 0.9627 - val_loss: 0.0878 - val_acc: 0.9733\n",
      "Epoch 2/4\n",
      "33600/33600 [==============================] - 101s - loss: 0.0897 - acc: 0.9722 - val_loss: 0.0646 - val_acc: 0.9802\n",
      "Epoch 3/4\n",
      "33600/33600 [==============================] - 120s - loss: 0.0809 - acc: 0.9743 - val_loss: 0.0600 - val_acc: 0.9817\n",
      "Epoch 4/4\n",
      "33600/33600 [==============================] - 111s - loss: 0.0733 - acc: 0.9768 - val_loss: 0.0435 - val_acc: 0.9855\n",
      "Epoch 1/12\n",
      "33600/33600 [==============================] - 101s - loss: 0.0683 - acc: 0.9790 - val_loss: 0.0454 - val_acc: 0.9864\n",
      "Epoch 2/12\n",
      "33600/33600 [==============================] - 100s - loss: 0.0617 - acc: 0.9814 - val_loss: 0.0476 - val_acc: 0.9845\n",
      "Epoch 3/12\n",
      "33600/33600 [==============================] - 101s - loss: 0.0591 - acc: 0.9820 - val_loss: 0.0537 - val_acc: 0.9837\n",
      "Epoch 4/12\n",
      "33600/33600 [==============================] - 101s - loss: 0.0558 - acc: 0.9827 - val_loss: 0.0515 - val_acc: 0.9855\n",
      "Epoch 5/12\n",
      "33600/33600 [==============================] - 101s - loss: 0.0543 - acc: 0.9830 - val_loss: 0.0542 - val_acc: 0.9835\n",
      "Epoch 6/12\n",
      "33600/33600 [==============================] - 102s - loss: 0.0489 - acc: 0.9854 - val_loss: 0.0432 - val_acc: 0.9885\n",
      "Epoch 7/12\n",
      "33600/33600 [==============================] - 101s - loss: 0.0500 - acc: 0.9842 - val_loss: 0.0375 - val_acc: 0.9885\n",
      "Epoch 8/12\n",
      "33600/33600 [==============================] - 101s - loss: 0.0480 - acc: 0.9855 - val_loss: 0.0376 - val_acc: 0.9900\n",
      "Epoch 9/12\n",
      "33600/33600 [==============================] - 102s - loss: 0.0465 - acc: 0.9865 - val_loss: 0.0540 - val_acc: 0.9839\n",
      "Epoch 10/12\n",
      "33600/33600 [==============================] - 100s - loss: 0.0462 - acc: 0.9857 - val_loss: 0.0423 - val_acc: 0.9879\n",
      "Epoch 11/12\n",
      "33600/33600 [==============================] - 100s - loss: 0.0430 - acc: 0.9867 - val_loss: 0.0316 - val_acc: 0.9905\n",
      "Epoch 12/12\n",
      "33600/33600 [==============================] - 100s - loss: 0.0406 - acc: 0.9873 - val_loss: 0.0468 - val_acc: 0.9862\n",
      "Epoch 1/18\n",
      "33600/33600 [==============================] - 101s - loss: 0.0378 - acc: 0.9884 - val_loss: 0.0386 - val_acc: 0.9883\n",
      "Epoch 2/18\n",
      "33600/33600 [==============================] - 100s - loss: 0.0336 - acc: 0.9892 - val_loss: 0.0327 - val_acc: 0.9910\n",
      "Epoch 3/18\n",
      "33600/33600 [==============================] - 100s - loss: 0.0375 - acc: 0.9878 - val_loss: 0.0467 - val_acc: 0.9879\n",
      "Epoch 4/18\n",
      "33600/33600 [==============================] - 100s - loss: 0.0353 - acc: 0.9892 - val_loss: 0.0306 - val_acc: 0.9901\n",
      "Epoch 5/18\n",
      "33600/33600 [==============================] - 100s - loss: 0.0353 - acc: 0.9892 - val_loss: 0.0394 - val_acc: 0.9885\n",
      "Epoch 6/18\n",
      "33600/33600 [==============================] - 106s - loss: 0.0321 - acc: 0.9896 - val_loss: 0.0336 - val_acc: 0.9904\n",
      "Epoch 7/18\n",
      "33600/33600 [==============================] - 105s - loss: 0.0328 - acc: 0.9893 - val_loss: 0.0329 - val_acc: 0.9899\n",
      "Epoch 8/18\n",
      "33600/33600 [==============================] - 95s - loss: 0.0308 - acc: 0.9905 - val_loss: 0.0299 - val_acc: 0.9911\n",
      "Epoch 9/18\n",
      "33600/33600 [==============================] - 111s - loss: 0.0279 - acc: 0.9912 - val_loss: 0.0277 - val_acc: 0.9917\n",
      "Epoch 10/18\n",
      "33600/33600 [==============================] - 101s - loss: 0.0296 - acc: 0.9909 - val_loss: 0.0322 - val_acc: 0.9905\n",
      "Epoch 11/18\n",
      "33600/33600 [==============================] - 107s - loss: 0.0301 - acc: 0.9907 - val_loss: 0.0307 - val_acc: 0.9904\n",
      "Epoch 12/18\n",
      "33600/33600 [==============================] - 100s - loss: 0.0325 - acc: 0.9895 - val_loss: 0.0416 - val_acc: 0.9900\n",
      "Epoch 13/18\n",
      "33600/33600 [==============================] - 103s - loss: 0.0275 - acc: 0.9915 - val_loss: 0.0317 - val_acc: 0.9910\n",
      "Epoch 14/18\n",
      "33600/33600 [==============================] - 110s - loss: 0.0251 - acc: 0.9914 - val_loss: 0.0351 - val_acc: 0.9900\n",
      "Epoch 15/18\n",
      "33600/33600 [==============================] - 110s - loss: 0.0272 - acc: 0.9917 - val_loss: 0.0357 - val_acc: 0.9906\n",
      "Epoch 16/18\n",
      "33600/33600 [==============================] - 120s - loss: 0.0247 - acc: 0.9920 - val_loss: 0.0342 - val_acc: 0.9907\n",
      "Epoch 17/18\n",
      "33600/33600 [==============================] - 109s - loss: 0.0273 - acc: 0.9912 - val_loss: 0.0380 - val_acc: 0.9894\n",
      "Epoch 18/18\n",
      "33600/33600 [==============================] - 104s - loss: 0.0261 - acc: 0.9918 - val_loss: 0.0313 - val_acc: 0.9912\n"
     ]
    },
    {
     "name": "stderr",
     "output_type": "stream",
     "text": [
      "/home/ubuntu/anaconda3/lib/python3.5/site-packages/keras/backend/theano_backend.py:1282: UserWarning: DEPRECATION: the 'ds' parameter is not going to exist anymore as it is going to be replaced by the parameter 'ws'.\n",
      "  mode='max')\n",
      "/home/ubuntu/anaconda3/lib/python3.5/site-packages/keras/backend/theano_backend.py:1282: UserWarning: DEPRECATION: the 'st' parameter is not going to exist anymore as it is going to be replaced by the parameter 'stride'.\n",
      "  mode='max')\n",
      "/home/ubuntu/anaconda3/lib/python3.5/site-packages/keras/backend/theano_backend.py:1282: UserWarning: DEPRECATION: the 'padding' parameter is not going to exist anymore as it is going to be replaced by the parameter 'pad'.\n",
      "  mode='max')\n"
     ]
    },
    {
     "name": "stdout",
     "output_type": "stream",
     "text": [
      "Epoch 1/1\n",
      "33600/33600 [==============================] - 108s - loss: 0.2963 - acc: 0.9101 - val_loss: 0.1118 - val_acc: 0.9646\n",
      "Epoch 1/4\n",
      "33600/33600 [==============================] - 111s - loss: 0.1200 - acc: 0.9644 - val_loss: 0.0769 - val_acc: 0.9751\n",
      "Epoch 2/4\n",
      "33600/33600 [==============================] - 98s - loss: 0.0903 - acc: 0.9723 - val_loss: 0.0726 - val_acc: 0.9775\n",
      "Epoch 3/4\n",
      "33600/33600 [==============================] - 102s - loss: 0.0808 - acc: 0.9748 - val_loss: 0.0631 - val_acc: 0.9804\n",
      "Epoch 4/4\n",
      "33600/33600 [==============================] - 104s - loss: 0.0732 - acc: 0.9771 - val_loss: 0.0564 - val_acc: 0.9826\n",
      "Epoch 1/12\n",
      "33600/33600 [==============================] - 109s - loss: 0.0683 - acc: 0.9789 - val_loss: 0.0597 - val_acc: 0.9835\n",
      "Epoch 2/12\n",
      "33600/33600 [==============================] - 98s - loss: 0.0621 - acc: 0.9808 - val_loss: 0.0423 - val_acc: 0.9867\n",
      "Epoch 3/12\n",
      "33600/33600 [==============================] - 100s - loss: 0.0540 - acc: 0.9835 - val_loss: 0.0550 - val_acc: 0.9838\n",
      "Epoch 4/12\n",
      "33600/33600 [==============================] - 112s - loss: 0.0581 - acc: 0.9819 - val_loss: 0.0438 - val_acc: 0.9858\n",
      "Epoch 5/12\n",
      "33600/33600 [==============================] - 108s - loss: 0.0514 - acc: 0.9835 - val_loss: 0.0571 - val_acc: 0.9825\n",
      "Epoch 6/12\n",
      "33600/33600 [==============================] - 101s - loss: 0.0535 - acc: 0.9836 - val_loss: 0.0442 - val_acc: 0.9863\n",
      "Epoch 7/12\n",
      "33600/33600 [==============================] - 98s - loss: 0.0521 - acc: 0.9841 - val_loss: 0.0464 - val_acc: 0.9860\n",
      "Epoch 8/12\n",
      "33600/33600 [==============================] - 105s - loss: 0.0472 - acc: 0.9862 - val_loss: 0.0516 - val_acc: 0.9860\n",
      "Epoch 9/12\n",
      "33600/33600 [==============================] - 113s - loss: 0.0448 - acc: 0.9858 - val_loss: 0.0399 - val_acc: 0.9873\n",
      "Epoch 10/12\n",
      "33600/33600 [==============================] - 109s - loss: 0.0425 - acc: 0.9864 - val_loss: 0.0409 - val_acc: 0.9890\n",
      "Epoch 11/12\n",
      "33600/33600 [==============================] - 100s - loss: 0.0402 - acc: 0.9872 - val_loss: 0.0351 - val_acc: 0.9888\n",
      "Epoch 12/12\n",
      "33600/33600 [==============================] - 103s - loss: 0.0422 - acc: 0.9868 - val_loss: 0.0363 - val_acc: 0.9898\n",
      "Epoch 1/18\n",
      "33600/33600 [==============================] - 105s - loss: 0.0368 - acc: 0.9879 - val_loss: 0.0456 - val_acc: 0.9864\n",
      "Epoch 2/18\n",
      "33600/33600 [==============================] - 98s - loss: 0.0371 - acc: 0.9885 - val_loss: 0.0395 - val_acc: 0.9877\n",
      "Epoch 3/18\n",
      "33600/33600 [==============================] - 99s - loss: 0.0361 - acc: 0.9886 - val_loss: 0.0395 - val_acc: 0.9896\n",
      "Epoch 4/18\n",
      "33600/33600 [==============================] - 103s - loss: 0.0385 - acc: 0.9883 - val_loss: 0.0344 - val_acc: 0.9901\n",
      "Epoch 5/18\n",
      "33600/33600 [==============================] - 98s - loss: 0.0352 - acc: 0.9888 - val_loss: 0.0411 - val_acc: 0.9886\n",
      "Epoch 6/18\n",
      "33600/33600 [==============================] - 99s - loss: 0.0341 - acc: 0.9896 - val_loss: 0.0313 - val_acc: 0.9908\n",
      "Epoch 7/18\n",
      "33600/33600 [==============================] - 104s - loss: 0.0312 - acc: 0.9898 - val_loss: 0.0362 - val_acc: 0.9880\n",
      "Epoch 8/18\n",
      "33600/33600 [==============================] - 115s - loss: 0.0349 - acc: 0.9898 - val_loss: 0.0386 - val_acc: 0.9887\n",
      "Epoch 9/18\n",
      "33600/33600 [==============================] - 111s - loss: 0.0311 - acc: 0.9899 - val_loss: 0.0373 - val_acc: 0.9890\n",
      "Epoch 10/18\n",
      "33600/33600 [==============================] - 114s - loss: 0.0306 - acc: 0.9904 - val_loss: 0.0362 - val_acc: 0.9907\n",
      "Epoch 11/18\n",
      "33600/33600 [==============================] - 117s - loss: 0.0327 - acc: 0.9896 - val_loss: 0.0298 - val_acc: 0.9908\n",
      "Epoch 12/18\n",
      "33600/33600 [==============================] - 108s - loss: 0.0256 - acc: 0.9910 - val_loss: 0.0302 - val_acc: 0.9918\n",
      "Epoch 13/18\n",
      "33600/33600 [==============================] - 100s - loss: 0.0290 - acc: 0.9910 - val_loss: 0.0499 - val_acc: 0.9848\n",
      "Epoch 14/18\n",
      "33600/33600 [==============================] - 109s - loss: 0.0267 - acc: 0.9917 - val_loss: 0.0382 - val_acc: 0.9892\n",
      "Epoch 15/18\n",
      "33600/33600 [==============================] - 103s - loss: 0.0292 - acc: 0.9907 - val_loss: 0.0287 - val_acc: 0.9918\n",
      "Epoch 16/18\n",
      "33600/33600 [==============================] - 98s - loss: 0.0291 - acc: 0.9906 - val_loss: 0.0319 - val_acc: 0.9912\n",
      "Epoch 17/18\n",
      "33600/33600 [==============================] - 101s - loss: 0.0253 - acc: 0.9914 - val_loss: 0.0328 - val_acc: 0.9894\n",
      "Epoch 18/18\n",
      "33600/33600 [==============================] - 100s - loss: 0.0268 - acc: 0.9917 - val_loss: 0.0338 - val_acc: 0.9890\n",
      "Epoch 1/1\n",
      "33600/33600 [==============================] - 104s - loss: 0.3040 - acc: 0.9098 - val_loss: 0.2404 - val_acc: 0.9302\n",
      "Epoch 1/4\n",
      "33600/33600 [==============================] - 104s - loss: 0.1183 - acc: 0.9647 - val_loss: 0.1177 - val_acc: 0.9649\n",
      "Epoch 2/4\n",
      "33600/33600 [==============================] - 104s - loss: 0.0925 - acc: 0.9717 - val_loss: 0.0626 - val_acc: 0.9798\n",
      "Epoch 3/4\n",
      "33600/33600 [==============================] - 104s - loss: 0.0795 - acc: 0.9754 - val_loss: 0.0553 - val_acc: 0.9823\n",
      "Epoch 4/4\n",
      "33600/33600 [==============================] - 103s - loss: 0.0697 - acc: 0.9789 - val_loss: 0.0569 - val_acc: 0.9833\n",
      "Epoch 1/12\n",
      "33600/33600 [==============================] - 103s - loss: 0.0627 - acc: 0.9810 - val_loss: 0.0486 - val_acc: 0.9851\n",
      "Epoch 2/12\n",
      "33600/33600 [==============================] - 108s - loss: 0.0644 - acc: 0.9795 - val_loss: 0.0472 - val_acc: 0.9869\n",
      "Epoch 3/12\n",
      "33600/33600 [==============================] - 103s - loss: 0.0566 - acc: 0.9822 - val_loss: 0.0398 - val_acc: 0.9881\n",
      "Epoch 4/12\n",
      "33600/33600 [==============================] - 116s - loss: 0.0588 - acc: 0.9830 - val_loss: 0.0496 - val_acc: 0.9855\n",
      "Epoch 5/12\n",
      "33600/33600 [==============================] - 103s - loss: 0.0549 - acc: 0.9834 - val_loss: 0.0427 - val_acc: 0.9871\n",
      "Epoch 6/12\n",
      "33600/33600 [==============================] - 108s - loss: 0.0529 - acc: 0.9834 - val_loss: 0.0415 - val_acc: 0.9883\n",
      "Epoch 7/12\n",
      "33600/33600 [==============================] - 108s - loss: 0.0500 - acc: 0.9847 - val_loss: 0.0471 - val_acc: 0.9870\n",
      "Epoch 8/12\n",
      "33600/33600 [==============================] - 103s - loss: 0.0484 - acc: 0.9855 - val_loss: 0.0494 - val_acc: 0.9852\n",
      "Epoch 9/12\n",
      "33600/33600 [==============================] - 105s - loss: 0.0460 - acc: 0.9846 - val_loss: 0.0394 - val_acc: 0.9880\n",
      "Epoch 10/12\n",
      "33600/33600 [==============================] - 111s - loss: 0.0469 - acc: 0.9862 - val_loss: 0.0483 - val_acc: 0.9865\n",
      "Epoch 11/12\n",
      "33600/33600 [==============================] - 114s - loss: 0.0401 - acc: 0.9873 - val_loss: 0.0349 - val_acc: 0.9895\n",
      "Epoch 12/12\n",
      "33600/33600 [==============================] - 103s - loss: 0.0398 - acc: 0.9871 - val_loss: 0.0434 - val_acc: 0.9871\n",
      "Epoch 1/18\n",
      "33600/33600 [==============================] - 109s - loss: 0.0376 - acc: 0.9880 - val_loss: 0.0345 - val_acc: 0.9889\n",
      "Epoch 2/18\n",
      "33600/33600 [==============================] - 113s - loss: 0.0361 - acc: 0.9887 - val_loss: 0.0359 - val_acc: 0.9883\n",
      "Epoch 3/18\n",
      "33600/33600 [==============================] - 102s - loss: 0.0399 - acc: 0.9876 - val_loss: 0.0298 - val_acc: 0.9902\n",
      "Epoch 4/18\n",
      "33600/33600 [==============================] - 113s - loss: 0.0349 - acc: 0.9881 - val_loss: 0.0346 - val_acc: 0.9913\n",
      "Epoch 5/18\n",
      "33600/33600 [==============================] - 105s - loss: 0.0336 - acc: 0.9887 - val_loss: 0.0392 - val_acc: 0.9882\n",
      "Epoch 6/18\n",
      "33600/33600 [==============================] - 107s - loss: 0.0342 - acc: 0.9889 - val_loss: 0.0400 - val_acc: 0.9889\n",
      "Epoch 7/18\n",
      "33600/33600 [==============================] - 108s - loss: 0.0329 - acc: 0.9897 - val_loss: 0.0313 - val_acc: 0.9913\n",
      "Epoch 8/18\n",
      "33600/33600 [==============================] - 108s - loss: 0.0331 - acc: 0.9894 - val_loss: 0.0344 - val_acc: 0.9904\n",
      "Epoch 9/18\n",
      "33600/33600 [==============================] - 107s - loss: 0.0309 - acc: 0.9897 - val_loss: 0.0387 - val_acc: 0.9896\n",
      "Epoch 10/18\n",
      "33600/33600 [==============================] - 108s - loss: 0.0315 - acc: 0.9901 - val_loss: 0.0285 - val_acc: 0.9904\n",
      "Epoch 11/18\n",
      "33600/33600 [==============================] - 108s - loss: 0.0323 - acc: 0.9901 - val_loss: 0.0329 - val_acc: 0.9907\n",
      "Epoch 12/18\n",
      "33600/33600 [==============================] - 108s - loss: 0.0272 - acc: 0.9916 - val_loss: 0.0377 - val_acc: 0.9902\n",
      "Epoch 13/18\n",
      "33600/33600 [==============================] - 108s - loss: 0.0278 - acc: 0.9906 - val_loss: 0.0282 - val_acc: 0.9915\n",
      "Epoch 14/18\n",
      "33600/33600 [==============================] - 108s - loss: 0.0307 - acc: 0.9908 - val_loss: 0.0417 - val_acc: 0.9895\n",
      "Epoch 15/18\n",
      "33600/33600 [==============================] - 107s - loss: 0.0268 - acc: 0.9917 - val_loss: 0.0267 - val_acc: 0.9911\n",
      "Epoch 16/18\n",
      "33600/33600 [==============================] - 108s - loss: 0.0286 - acc: 0.9916 - val_loss: 0.0400 - val_acc: 0.9896\n",
      "Epoch 17/18\n",
      "33600/33600 [==============================] - 107s - loss: 0.0248 - acc: 0.9920 - val_loss: 0.0294 - val_acc: 0.9912\n",
      "Epoch 18/18\n",
      "33600/33600 [==============================] - 107s - loss: 0.0266 - acc: 0.9914 - val_loss: 0.0298 - val_acc: 0.9915\n"
     ]
    },
    {
     "name": "stderr",
     "output_type": "stream",
     "text": [
      "/home/ubuntu/anaconda3/lib/python3.5/site-packages/keras/backend/theano_backend.py:1282: UserWarning: DEPRECATION: the 'ds' parameter is not going to exist anymore as it is going to be replaced by the parameter 'ws'.\n",
      "  mode='max')\n",
      "/home/ubuntu/anaconda3/lib/python3.5/site-packages/keras/backend/theano_backend.py:1282: UserWarning: DEPRECATION: the 'st' parameter is not going to exist anymore as it is going to be replaced by the parameter 'stride'.\n",
      "  mode='max')\n",
      "/home/ubuntu/anaconda3/lib/python3.5/site-packages/keras/backend/theano_backend.py:1282: UserWarning: DEPRECATION: the 'padding' parameter is not going to exist anymore as it is going to be replaced by the parameter 'pad'.\n",
      "  mode='max')\n"
     ]
    },
    {
     "name": "stdout",
     "output_type": "stream",
     "text": [
      "Epoch 1/1\n",
      "33600/33600 [==============================] - 111s - loss: 0.2974 - acc: 0.9111 - val_loss: 0.1742 - val_acc: 0.9468\n",
      "Epoch 1/4\n",
      "33600/33600 [==============================] - 111s - loss: 0.1108 - acc: 0.9662 - val_loss: 0.1060 - val_acc: 0.9673\n",
      "Epoch 2/4\n",
      "33600/33600 [==============================] - 110s - loss: 0.0957 - acc: 0.9710 - val_loss: 0.0723 - val_acc: 0.9761\n",
      "Epoch 3/4\n",
      "33600/33600 [==============================] - 110s - loss: 0.0773 - acc: 0.9765 - val_loss: 0.0601 - val_acc: 0.9812\n",
      "Epoch 4/4\n",
      "33600/33600 [==============================] - 111s - loss: 0.0706 - acc: 0.9782 - val_loss: 0.0469 - val_acc: 0.9844\n",
      "Epoch 1/12\n",
      "33600/33600 [==============================] - 111s - loss: 0.0653 - acc: 0.9805 - val_loss: 0.0443 - val_acc: 0.9849\n",
      "Epoch 2/12\n",
      "33600/33600 [==============================] - 111s - loss: 0.0632 - acc: 0.9813 - val_loss: 0.0551 - val_acc: 0.9851\n",
      "Epoch 3/12\n",
      "33600/33600 [==============================] - 111s - loss: 0.0582 - acc: 0.9823 - val_loss: 0.0414 - val_acc: 0.9870\n",
      "Epoch 4/12\n",
      "33600/33600 [==============================] - 110s - loss: 0.0546 - acc: 0.9833 - val_loss: 0.0465 - val_acc: 0.9860\n",
      "Epoch 5/12\n",
      "33600/33600 [==============================] - 110s - loss: 0.0518 - acc: 0.9841 - val_loss: 0.0470 - val_acc: 0.9848\n",
      "Epoch 6/12\n",
      "33600/33600 [==============================] - 110s - loss: 0.0478 - acc: 0.9846 - val_loss: 0.0422 - val_acc: 0.9877\n",
      "Epoch 7/12\n",
      "33600/33600 [==============================] - 110s - loss: 0.0482 - acc: 0.9849 - val_loss: 0.0498 - val_acc: 0.9844\n",
      "Epoch 8/12\n",
      "33600/33600 [==============================] - 110s - loss: 0.0466 - acc: 0.9847 - val_loss: 0.0411 - val_acc: 0.9879\n",
      "Epoch 9/12\n",
      "33600/33600 [==============================] - 110s - loss: 0.0446 - acc: 0.9867 - val_loss: 0.0463 - val_acc: 0.9857\n",
      "Epoch 10/12\n",
      "33600/33600 [==============================] - 110s - loss: 0.0434 - acc: 0.9866 - val_loss: 0.0352 - val_acc: 0.9888\n",
      "Epoch 11/12\n",
      "33600/33600 [==============================] - 110s - loss: 0.0407 - acc: 0.9874 - val_loss: 0.0463 - val_acc: 0.9864\n",
      "Epoch 12/12\n",
      "33600/33600 [==============================] - 110s - loss: 0.0425 - acc: 0.9868 - val_loss: 0.0306 - val_acc: 0.9907\n",
      "Epoch 1/18\n",
      "33600/33600 [==============================] - 111s - loss: 0.0410 - acc: 0.9879 - val_loss: 0.0401 - val_acc: 0.9890\n",
      "Epoch 2/18\n",
      "33600/33600 [==============================] - 110s - loss: 0.0376 - acc: 0.9881 - val_loss: 0.0305 - val_acc: 0.9905\n",
      "Epoch 3/18\n",
      "33600/33600 [==============================] - 110s - loss: 0.0370 - acc: 0.9889 - val_loss: 0.0358 - val_acc: 0.9892\n",
      "Epoch 4/18\n",
      "33600/33600 [==============================] - 110s - loss: 0.0368 - acc: 0.9879 - val_loss: 0.0435 - val_acc: 0.9879\n",
      "Epoch 5/18\n",
      "33600/33600 [==============================] - 110s - loss: 0.0345 - acc: 0.9888 - val_loss: 0.0386 - val_acc: 0.9889\n",
      "Epoch 6/18\n",
      "33600/33600 [==============================] - 110s - loss: 0.0332 - acc: 0.9894 - val_loss: 0.0338 - val_acc: 0.9904\n",
      "Epoch 7/18\n",
      "33600/33600 [==============================] - 110s - loss: 0.0322 - acc: 0.9896 - val_loss: 0.0306 - val_acc: 0.9907\n",
      "Epoch 8/18\n",
      "33600/33600 [==============================] - 110s - loss: 0.0317 - acc: 0.9901 - val_loss: 0.0488 - val_acc: 0.9842\n",
      "Epoch 9/18\n",
      "33600/33600 [==============================] - 110s - loss: 0.0334 - acc: 0.9893 - val_loss: 0.0333 - val_acc: 0.9901\n",
      "Epoch 10/18\n",
      "33600/33600 [==============================] - 110s - loss: 0.0297 - acc: 0.9912 - val_loss: 0.0298 - val_acc: 0.9921\n",
      "Epoch 11/18\n",
      "33600/33600 [==============================] - 110s - loss: 0.0290 - acc: 0.9907 - val_loss: 0.0301 - val_acc: 0.9919\n",
      "Epoch 12/18\n",
      "33600/33600 [==============================] - 110s - loss: 0.0298 - acc: 0.9902 - val_loss: 0.0302 - val_acc: 0.9925\n",
      "Epoch 13/18\n",
      "33600/33600 [==============================] - 110s - loss: 0.0284 - acc: 0.9907 - val_loss: 0.0378 - val_acc: 0.9902\n",
      "Epoch 14/18\n",
      "33600/33600 [==============================] - 110s - loss: 0.0285 - acc: 0.9911 - val_loss: 0.0350 - val_acc: 0.9919\n",
      "Epoch 15/18\n",
      "33600/33600 [==============================] - 110s - loss: 0.0255 - acc: 0.9917 - val_loss: 0.0349 - val_acc: 0.9892\n",
      "Epoch 16/18\n",
      "33600/33600 [==============================] - 110s - loss: 0.0255 - acc: 0.9914 - val_loss: 0.0337 - val_acc: 0.9913\n",
      "Epoch 17/18\n",
      "33600/33600 [==============================] - 110s - loss: 0.0249 - acc: 0.9924 - val_loss: 0.0407 - val_acc: 0.9890\n",
      "Epoch 18/18\n",
      "33600/33600 [==============================] - 110s - loss: 0.0279 - acc: 0.9915 - val_loss: 0.0286 - val_acc: 0.9923\n"
     ]
    }
   ],
   "source": [
    "def fit_model():\n",
    "    model = get_model_bn_do()\n",
    "    model.fit_generator(batches,batches.N,nb_epoch=1,validation_data=val_batches,nb_val_samples=val_batches.N)\n",
    "    \n",
    "    model.optimizer.lr=0.1\n",
    "    model.fit_generator(batches,batches.N,nb_epoch=4,validation_data=val_batches,nb_val_samples=val_batches.N)\n",
    "    \n",
    "    model.optimizer.lr=0.01\n",
    "    model.fit_generator(batches,batches.N,nb_epoch=12,validation_data=val_batches,nb_val_samples=val_batches.N)\n",
    "    model.optimizer.lr=0.001\n",
    "    model.fit_generator(batches,batches.N,nb_epoch=18,validation_data=val_batches,nb_val_samples=val_batches.N)\n",
    "    \n",
    "    return model\n",
    "models = [fit_model() for i in range(6)]"
   ]
  },
  {
   "cell_type": "code",
   "execution_count": 16,
   "metadata": {
    "collapsed": false
   },
   "outputs": [
    {
     "data": {
      "text/plain": [
       "[<keras.models.Sequential at 0x7f569e59f400>,\n",
       " <keras.models.Sequential at 0x7f561d86f320>,\n",
       " <keras.models.Sequential at 0x7f56043a9ac8>,\n",
       " <keras.models.Sequential at 0x7f55fdf596a0>,\n",
       " <keras.models.Sequential at 0x7f55fca61390>,\n",
       " <keras.models.Sequential at 0x7f55f630acc0>]"
      ]
     },
     "execution_count": 16,
     "metadata": {},
     "output_type": "execute_result"
    }
   ],
   "source": [
    "models"
   ]
  },
  {
   "cell_type": "code",
   "execution_count": 18,
   "metadata": {
    "collapsed": true
   },
   "outputs": [],
   "source": [
    "path = \"data/\"\n",
    "model_path = path + 'models/'"
   ]
  },
  {
   "cell_type": "code",
   "execution_count": 19,
   "metadata": {
    "collapsed": true
   },
   "outputs": [],
   "source": [
    "for i,m in enumerate(models):\n",
    "    m.save_weights(model_path+'cnn-mnist23-'+str(i)+'.pkl')"
   ]
  },
  {
   "cell_type": "code",
   "execution_count": 21,
   "metadata": {
    "collapsed": false
   },
   "outputs": [
    {
     "name": "stdout",
     "output_type": "stream",
     "text": [
      "8400/8400 [==============================] - 6s     \n",
      "8400/8400 [==============================] - 6s     \n",
      "8400/8400 [==============================] - 6s     \n",
      "8400/8400 [==============================] - 6s     \n",
      "8400/8400 [==============================] - 6s     \n",
      "8400/8400 [==============================] - 6s     \n"
     ]
    }
   ],
   "source": [
    "evals = np.array([m.evaluate(valX, y_val, batch_size=256) for m in models])"
   ]
  },
  {
   "cell_type": "code",
   "execution_count": 22,
   "metadata": {
    "collapsed": false
   },
   "outputs": [
    {
     "data": {
      "text/plain": [
       "array([ 0.0226,  0.9943])"
      ]
     },
     "execution_count": 22,
     "metadata": {},
     "output_type": "execute_result"
    }
   ],
   "source": [
    "evals.mean(axis=0)"
   ]
  },
  {
   "cell_type": "code",
   "execution_count": 23,
   "metadata": {
    "collapsed": true
   },
   "outputs": [],
   "source": [
    "all_preds = np.stack([m.predict(testX, batch_size=256) for m in models])"
   ]
  },
  {
   "cell_type": "code",
   "execution_count": 59,
   "metadata": {
    "collapsed": false
   },
   "outputs": [],
   "source": [
    "#all_preds_classes = np.stack([m.predict_classes(testX, batch_size=256) for m in models])"
   ]
  },
  {
   "cell_type": "code",
   "execution_count": 60,
   "metadata": {
    "collapsed": false
   },
   "outputs": [],
   "source": [
    "#all_preds_classes.mean(axis=0)[2]"
   ]
  },
  {
   "cell_type": "code",
   "execution_count": 26,
   "metadata": {
    "collapsed": true
   },
   "outputs": [],
   "source": [
    "avg_preds = all_preds.mean(axis=0)"
   ]
  },
  {
   "cell_type": "code",
   "execution_count": 64,
   "metadata": {
    "collapsed": false
   },
   "outputs": [
    {
     "data": {
      "text/plain": [
       "array([  1.0499e-10,   8.6935e-11,   1.0000e+00,   6.5346e-09,   2.4939e-10,   8.3630e-11,\n",
       "         6.8040e-12,   1.0817e-08,   3.0888e-10,   1.8464e-10], dtype=float32)"
      ]
     },
     "execution_count": 64,
     "metadata": {},
     "output_type": "execute_result"
    }
   ],
   "source": [
    "avg_preds[0]"
   ]
  },
  {
   "cell_type": "code",
   "execution_count": 65,
   "metadata": {
    "collapsed": false
   },
   "outputs": [
    {
     "data": {
      "text/plain": [
       "(28000, 10)"
      ]
     },
     "execution_count": 65,
     "metadata": {},
     "output_type": "execute_result"
    }
   ],
   "source": [
    "avg_preds.shape"
   ]
  },
  {
   "cell_type": "code",
   "execution_count": 68,
   "metadata": {
    "collapsed": false
   },
   "outputs": [
    {
     "data": {
      "text/html": [
       "<div>\n",
       "<style>\n",
       "    .dataframe thead tr:only-child th {\n",
       "        text-align: right;\n",
       "    }\n",
       "\n",
       "    .dataframe thead th {\n",
       "        text-align: left;\n",
       "    }\n",
       "\n",
       "    .dataframe tbody tr th {\n",
       "        vertical-align: top;\n",
       "    }\n",
       "</style>\n",
       "<table border=\"1\" class=\"dataframe\">\n",
       "  <thead>\n",
       "    <tr style=\"text-align: right;\">\n",
       "      <th></th>\n",
       "      <th>pixel0</th>\n",
       "      <th>pixel1</th>\n",
       "      <th>pixel2</th>\n",
       "      <th>pixel3</th>\n",
       "      <th>pixel4</th>\n",
       "      <th>pixel5</th>\n",
       "      <th>pixel6</th>\n",
       "      <th>pixel7</th>\n",
       "      <th>pixel8</th>\n",
       "      <th>pixel9</th>\n",
       "      <th>...</th>\n",
       "      <th>pixel774</th>\n",
       "      <th>pixel775</th>\n",
       "      <th>pixel776</th>\n",
       "      <th>pixel777</th>\n",
       "      <th>pixel778</th>\n",
       "      <th>pixel779</th>\n",
       "      <th>pixel780</th>\n",
       "      <th>pixel781</th>\n",
       "      <th>pixel782</th>\n",
       "      <th>pixel783</th>\n",
       "    </tr>\n",
       "  </thead>\n",
       "  <tbody>\n",
       "    <tr>\n",
       "      <th>0</th>\n",
       "      <td>0</td>\n",
       "      <td>0</td>\n",
       "      <td>0</td>\n",
       "      <td>0</td>\n",
       "      <td>0</td>\n",
       "      <td>0</td>\n",
       "      <td>0</td>\n",
       "      <td>0</td>\n",
       "      <td>0</td>\n",
       "      <td>0</td>\n",
       "      <td>...</td>\n",
       "      <td>0</td>\n",
       "      <td>0</td>\n",
       "      <td>0</td>\n",
       "      <td>0</td>\n",
       "      <td>0</td>\n",
       "      <td>0</td>\n",
       "      <td>0</td>\n",
       "      <td>0</td>\n",
       "      <td>0</td>\n",
       "      <td>0</td>\n",
       "    </tr>\n",
       "    <tr>\n",
       "      <th>1</th>\n",
       "      <td>0</td>\n",
       "      <td>0</td>\n",
       "      <td>0</td>\n",
       "      <td>0</td>\n",
       "      <td>0</td>\n",
       "      <td>0</td>\n",
       "      <td>0</td>\n",
       "      <td>0</td>\n",
       "      <td>0</td>\n",
       "      <td>0</td>\n",
       "      <td>...</td>\n",
       "      <td>0</td>\n",
       "      <td>0</td>\n",
       "      <td>0</td>\n",
       "      <td>0</td>\n",
       "      <td>0</td>\n",
       "      <td>0</td>\n",
       "      <td>0</td>\n",
       "      <td>0</td>\n",
       "      <td>0</td>\n",
       "      <td>0</td>\n",
       "    </tr>\n",
       "    <tr>\n",
       "      <th>2</th>\n",
       "      <td>0</td>\n",
       "      <td>0</td>\n",
       "      <td>0</td>\n",
       "      <td>0</td>\n",
       "      <td>0</td>\n",
       "      <td>0</td>\n",
       "      <td>0</td>\n",
       "      <td>0</td>\n",
       "      <td>0</td>\n",
       "      <td>0</td>\n",
       "      <td>...</td>\n",
       "      <td>0</td>\n",
       "      <td>0</td>\n",
       "      <td>0</td>\n",
       "      <td>0</td>\n",
       "      <td>0</td>\n",
       "      <td>0</td>\n",
       "      <td>0</td>\n",
       "      <td>0</td>\n",
       "      <td>0</td>\n",
       "      <td>0</td>\n",
       "    </tr>\n",
       "    <tr>\n",
       "      <th>3</th>\n",
       "      <td>0</td>\n",
       "      <td>0</td>\n",
       "      <td>0</td>\n",
       "      <td>0</td>\n",
       "      <td>0</td>\n",
       "      <td>0</td>\n",
       "      <td>0</td>\n",
       "      <td>0</td>\n",
       "      <td>0</td>\n",
       "      <td>0</td>\n",
       "      <td>...</td>\n",
       "      <td>0</td>\n",
       "      <td>0</td>\n",
       "      <td>0</td>\n",
       "      <td>0</td>\n",
       "      <td>0</td>\n",
       "      <td>0</td>\n",
       "      <td>0</td>\n",
       "      <td>0</td>\n",
       "      <td>0</td>\n",
       "      <td>0</td>\n",
       "    </tr>\n",
       "    <tr>\n",
       "      <th>4</th>\n",
       "      <td>0</td>\n",
       "      <td>0</td>\n",
       "      <td>0</td>\n",
       "      <td>0</td>\n",
       "      <td>0</td>\n",
       "      <td>0</td>\n",
       "      <td>0</td>\n",
       "      <td>0</td>\n",
       "      <td>0</td>\n",
       "      <td>0</td>\n",
       "      <td>...</td>\n",
       "      <td>0</td>\n",
       "      <td>0</td>\n",
       "      <td>0</td>\n",
       "      <td>0</td>\n",
       "      <td>0</td>\n",
       "      <td>0</td>\n",
       "      <td>0</td>\n",
       "      <td>0</td>\n",
       "      <td>0</td>\n",
       "      <td>0</td>\n",
       "    </tr>\n",
       "  </tbody>\n",
       "</table>\n",
       "<p>5 rows × 784 columns</p>\n",
       "</div>"
      ],
      "text/plain": [
       "   pixel0  pixel1  pixel2  pixel3  pixel4  pixel5  pixel6  pixel7  pixel8  \\\n",
       "0       0       0       0       0       0       0       0       0       0   \n",
       "1       0       0       0       0       0       0       0       0       0   \n",
       "2       0       0       0       0       0       0       0       0       0   \n",
       "3       0       0       0       0       0       0       0       0       0   \n",
       "4       0       0       0       0       0       0       0       0       0   \n",
       "\n",
       "   pixel9    ...     pixel774  pixel775  pixel776  pixel777  pixel778  \\\n",
       "0       0    ...            0         0         0         0         0   \n",
       "1       0    ...            0         0         0         0         0   \n",
       "2       0    ...            0         0         0         0         0   \n",
       "3       0    ...            0         0         0         0         0   \n",
       "4       0    ...            0         0         0         0         0   \n",
       "\n",
       "   pixel779  pixel780  pixel781  pixel782  pixel783  \n",
       "0         0         0         0         0         0  \n",
       "1         0         0         0         0         0  \n",
       "2         0         0         0         0         0  \n",
       "3         0         0         0         0         0  \n",
       "4         0         0         0         0         0  \n",
       "\n",
       "[5 rows x 784 columns]"
      ]
     },
     "execution_count": 68,
     "metadata": {},
     "output_type": "execute_result"
    }
   ],
   "source": [
    "test.head()"
   ]
  },
  {
   "cell_type": "code",
   "execution_count": 96,
   "metadata": {
    "collapsed": false
   },
   "outputs": [],
   "source": [
    "df_test=pd.DataFrame(avg_preds)"
   ]
  },
  {
   "cell_type": "code",
   "execution_count": 97,
   "metadata": {
    "collapsed": false
   },
   "outputs": [
    {
     "data": {
      "text/html": [
       "<div>\n",
       "<style>\n",
       "    .dataframe thead tr:only-child th {\n",
       "        text-align: right;\n",
       "    }\n",
       "\n",
       "    .dataframe thead th {\n",
       "        text-align: left;\n",
       "    }\n",
       "\n",
       "    .dataframe tbody tr th {\n",
       "        vertical-align: top;\n",
       "    }\n",
       "</style>\n",
       "<table border=\"1\" class=\"dataframe\">\n",
       "  <thead>\n",
       "    <tr style=\"text-align: right;\">\n",
       "      <th></th>\n",
       "      <th>0</th>\n",
       "      <th>1</th>\n",
       "      <th>2</th>\n",
       "      <th>3</th>\n",
       "      <th>4</th>\n",
       "      <th>5</th>\n",
       "      <th>6</th>\n",
       "      <th>7</th>\n",
       "      <th>8</th>\n",
       "      <th>9</th>\n",
       "    </tr>\n",
       "  </thead>\n",
       "  <tbody>\n",
       "    <tr>\n",
       "      <th>0</th>\n",
       "      <td>1.049885e-10</td>\n",
       "      <td>8.693482e-11</td>\n",
       "      <td>1.000000e+00</td>\n",
       "      <td>6.534650e-09</td>\n",
       "      <td>2.493860e-10</td>\n",
       "      <td>8.363002e-11</td>\n",
       "      <td>6.803990e-12</td>\n",
       "      <td>1.081714e-08</td>\n",
       "      <td>3.088789e-10</td>\n",
       "      <td>1.846404e-10</td>\n",
       "    </tr>\n",
       "    <tr>\n",
       "      <th>1</th>\n",
       "      <td>9.999995e-01</td>\n",
       "      <td>2.423503e-10</td>\n",
       "      <td>5.327970e-08</td>\n",
       "      <td>1.433815e-11</td>\n",
       "      <td>4.646189e-10</td>\n",
       "      <td>1.120676e-08</td>\n",
       "      <td>9.508602e-08</td>\n",
       "      <td>5.988779e-08</td>\n",
       "      <td>7.775041e-09</td>\n",
       "      <td>3.780608e-07</td>\n",
       "    </tr>\n",
       "    <tr>\n",
       "      <th>2</th>\n",
       "      <td>2.303405e-08</td>\n",
       "      <td>3.304975e-10</td>\n",
       "      <td>1.794845e-06</td>\n",
       "      <td>3.926413e-07</td>\n",
       "      <td>5.211029e-08</td>\n",
       "      <td>4.798926e-09</td>\n",
       "      <td>1.853113e-11</td>\n",
       "      <td>3.798635e-07</td>\n",
       "      <td>3.133607e-06</td>\n",
       "      <td>9.999942e-01</td>\n",
       "    </tr>\n",
       "    <tr>\n",
       "      <th>3</th>\n",
       "      <td>8.722304e-01</td>\n",
       "      <td>7.697568e-07</td>\n",
       "      <td>3.681842e-05</td>\n",
       "      <td>2.518473e-05</td>\n",
       "      <td>1.775379e-06</td>\n",
       "      <td>1.226127e-04</td>\n",
       "      <td>4.355041e-03</td>\n",
       "      <td>4.557351e-04</td>\n",
       "      <td>8.980238e-04</td>\n",
       "      <td>1.218737e-01</td>\n",
       "    </tr>\n",
       "    <tr>\n",
       "      <th>4</th>\n",
       "      <td>2.759671e-10</td>\n",
       "      <td>5.619114e-10</td>\n",
       "      <td>5.340772e-07</td>\n",
       "      <td>9.999683e-01</td>\n",
       "      <td>3.973704e-12</td>\n",
       "      <td>5.976860e-09</td>\n",
       "      <td>3.288208e-12</td>\n",
       "      <td>2.570735e-10</td>\n",
       "      <td>3.096805e-05</td>\n",
       "      <td>1.656182e-07</td>\n",
       "    </tr>\n",
       "  </tbody>\n",
       "</table>\n",
       "</div>"
      ],
      "text/plain": [
       "              0             1             2             3             4  \\\n",
       "0  1.049885e-10  8.693482e-11  1.000000e+00  6.534650e-09  2.493860e-10   \n",
       "1  9.999995e-01  2.423503e-10  5.327970e-08  1.433815e-11  4.646189e-10   \n",
       "2  2.303405e-08  3.304975e-10  1.794845e-06  3.926413e-07  5.211029e-08   \n",
       "3  8.722304e-01  7.697568e-07  3.681842e-05  2.518473e-05  1.775379e-06   \n",
       "4  2.759671e-10  5.619114e-10  5.340772e-07  9.999683e-01  3.973704e-12   \n",
       "\n",
       "              5             6             7             8             9  \n",
       "0  8.363002e-11  6.803990e-12  1.081714e-08  3.088789e-10  1.846404e-10  \n",
       "1  1.120676e-08  9.508602e-08  5.988779e-08  7.775041e-09  3.780608e-07  \n",
       "2  4.798926e-09  1.853113e-11  3.798635e-07  3.133607e-06  9.999942e-01  \n",
       "3  1.226127e-04  4.355041e-03  4.557351e-04  8.980238e-04  1.218737e-01  \n",
       "4  5.976860e-09  3.288208e-12  2.570735e-10  3.096805e-05  1.656182e-07  "
      ]
     },
     "execution_count": 97,
     "metadata": {},
     "output_type": "execute_result"
    }
   ],
   "source": [
    "\n",
    "df_test.head()"
   ]
  },
  {
   "cell_type": "code",
   "execution_count": 102,
   "metadata": {
    "collapsed": false
   },
   "outputs": [],
   "source": [
    "final=df_test.idxmax(axis=1)"
   ]
  },
  {
   "cell_type": "code",
   "execution_count": 107,
   "metadata": {
    "collapsed": false
   },
   "outputs": [],
   "source": [
    "dff=pd.DataFrame(final,columns=['Label'])"
   ]
  },
  {
   "cell_type": "code",
   "execution_count": 108,
   "metadata": {
    "collapsed": false
   },
   "outputs": [
    {
     "data": {
      "text/html": [
       "<div>\n",
       "<style>\n",
       "    .dataframe thead tr:only-child th {\n",
       "        text-align: right;\n",
       "    }\n",
       "\n",
       "    .dataframe thead th {\n",
       "        text-align: left;\n",
       "    }\n",
       "\n",
       "    .dataframe tbody tr th {\n",
       "        vertical-align: top;\n",
       "    }\n",
       "</style>\n",
       "<table border=\"1\" class=\"dataframe\">\n",
       "  <thead>\n",
       "    <tr style=\"text-align: right;\">\n",
       "      <th></th>\n",
       "      <th>Label</th>\n",
       "      <th>ImageId</th>\n",
       "    </tr>\n",
       "  </thead>\n",
       "  <tbody>\n",
       "    <tr>\n",
       "      <th>0</th>\n",
       "      <td>2</td>\n",
       "      <td>0</td>\n",
       "    </tr>\n",
       "    <tr>\n",
       "      <th>1</th>\n",
       "      <td>0</td>\n",
       "      <td>1</td>\n",
       "    </tr>\n",
       "    <tr>\n",
       "      <th>2</th>\n",
       "      <td>9</td>\n",
       "      <td>2</td>\n",
       "    </tr>\n",
       "    <tr>\n",
       "      <th>3</th>\n",
       "      <td>0</td>\n",
       "      <td>3</td>\n",
       "    </tr>\n",
       "    <tr>\n",
       "      <th>4</th>\n",
       "      <td>3</td>\n",
       "      <td>4</td>\n",
       "    </tr>\n",
       "  </tbody>\n",
       "</table>\n",
       "</div>"
      ],
      "text/plain": [
       "   Label  ImageId\n",
       "0      2        0\n",
       "1      0        1\n",
       "2      9        2\n",
       "3      0        3\n",
       "4      3        4"
      ]
     },
     "execution_count": 108,
     "metadata": {},
     "output_type": "execute_result"
    }
   ],
   "source": [
    "\n",
    "dff['ImageId']=test.index\n",
    "dff.head()"
   ]
  },
  {
   "cell_type": "code",
   "execution_count": 113,
   "metadata": {
    "collapsed": false
   },
   "outputs": [],
   "source": [
    "dff=dff[['ImageId','Label']]"
   ]
  },
  {
   "cell_type": "code",
   "execution_count": 129,
   "metadata": {
    "collapsed": false
   },
   "outputs": [
    {
     "data": {
      "text/html": [
       "<div>\n",
       "<style>\n",
       "    .dataframe thead tr:only-child th {\n",
       "        text-align: right;\n",
       "    }\n",
       "\n",
       "    .dataframe thead th {\n",
       "        text-align: left;\n",
       "    }\n",
       "\n",
       "    .dataframe tbody tr th {\n",
       "        vertical-align: top;\n",
       "    }\n",
       "</style>\n",
       "<table border=\"1\" class=\"dataframe\">\n",
       "  <thead>\n",
       "    <tr style=\"text-align: right;\">\n",
       "      <th></th>\n",
       "      <th>ImageId</th>\n",
       "      <th>Label</th>\n",
       "    </tr>\n",
       "  </thead>\n",
       "  <tbody>\n",
       "    <tr>\n",
       "      <th>0</th>\n",
       "      <td>1</td>\n",
       "      <td>2</td>\n",
       "    </tr>\n",
       "    <tr>\n",
       "      <th>1</th>\n",
       "      <td>2</td>\n",
       "      <td>0</td>\n",
       "    </tr>\n",
       "    <tr>\n",
       "      <th>2</th>\n",
       "      <td>3</td>\n",
       "      <td>9</td>\n",
       "    </tr>\n",
       "    <tr>\n",
       "      <th>3</th>\n",
       "      <td>4</td>\n",
       "      <td>0</td>\n",
       "    </tr>\n",
       "    <tr>\n",
       "      <th>4</th>\n",
       "      <td>5</td>\n",
       "      <td>3</td>\n",
       "    </tr>\n",
       "  </tbody>\n",
       "</table>\n",
       "</div>"
      ],
      "text/plain": [
       "   ImageId  Label\n",
       "0        1      2\n",
       "1        2      0\n",
       "2        3      9\n",
       "3        4      0\n",
       "4        5      3"
      ]
     },
     "execution_count": 129,
     "metadata": {},
     "output_type": "execute_result"
    }
   ],
   "source": [
    "dff['ImageId']=dff['ImageId']+1\n",
    "dff.head()"
   ]
  },
  {
   "cell_type": "code",
   "execution_count": 130,
   "metadata": {
    "collapsed": false
   },
   "outputs": [],
   "source": [
    "submission_file_name = 'submission5.csv'\n",
    "np.savetxt(submission_file_name, dff,fmt='%d,%.d',header='ImageId,Label', comments='')"
   ]
  },
  {
   "cell_type": "code",
   "execution_count": 131,
   "metadata": {
    "collapsed": false
   },
   "outputs": [
    {
     "data": {
      "text/plain": [
       "'/home/ubuntu/Notebook/fastai/data'"
      ]
     },
     "execution_count": 131,
     "metadata": {},
     "output_type": "execute_result"
    }
   ],
   "source": [
    "from IPython.display import FileLink\n",
    "import os\n",
    "os.getcwd()"
   ]
  },
  {
   "cell_type": "code",
   "execution_count": 126,
   "metadata": {
    "collapsed": false
   },
   "outputs": [
    {
     "name": "stdout",
     "output_type": "stream",
     "text": [
      "/home/ubuntu/Notebook/fastai/data\n"
     ]
    },
    {
     "data": {
      "text/html": [
       "<a href='submission4.csv' target='_blank'>submission4.csv</a><br>"
      ],
      "text/plain": [
       "/home/ubuntu/Notebook/fastai/data/submission4.csv"
      ]
     },
     "execution_count": 126,
     "metadata": {},
     "output_type": "execute_result"
    }
   ],
   "source": [
    "%cd '/home/ubuntu/Notebook/fastai/data/'\n",
    "FileLink(''+submission_file_name)"
   ]
  },
  {
   "cell_type": "code",
   "execution_count": null,
   "metadata": {
    "collapsed": true
   },
   "outputs": [],
   "source": []
  }
 ],
 "metadata": {
  "anaconda-cloud": {},
  "kernelspec": {
   "display_name": "Python [conda root]",
   "language": "python",
   "name": "conda-root-py"
  },
  "language_info": {
   "codemirror_mode": {
    "name": "ipython",
    "version": 3
   },
   "file_extension": ".py",
   "mimetype": "text/x-python",
   "name": "python",
   "nbconvert_exporter": "python",
   "pygments_lexer": "ipython3",
   "version": "3.5.2"
  }
 },
 "nbformat": 4,
 "nbformat_minor": 1
}
